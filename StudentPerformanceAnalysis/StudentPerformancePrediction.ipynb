{
 "cells": [
  {
   "cell_type": "code",
   "execution_count": 1,
   "id": "48ea3b04",
   "metadata": {},
   "outputs": [],
   "source": [
    "# Import libraries\n",
    "import pandas as pd\n",
    "\n",
    "import matplotlib.pyplot as plt\n",
    "import numpy as np\n",
    "import seaborn as sns\n",
    "\n",
    "import kaggle\n",
    "\n",
    "from pycaret.regression import *"
   ]
  },
  {
   "cell_type": "code",
   "execution_count": 2,
   "id": "b021407b",
   "metadata": {},
   "outputs": [],
   "source": [
    "data = \"../data/\""
   ]
  },
  {
   "cell_type": "code",
   "execution_count": 3,
   "id": "455e9a76",
   "metadata": {},
   "outputs": [],
   "source": [
    "# download Possum dataset from kaggle\n",
    "kaggle.api.authenticate()\n",
    "kaggle.api.dataset_download_files('nikhil7280/student-performance-multiple-linear-regression', path=data, unzip=True)"
   ]
  },
  {
   "cell_type": "code",
   "execution_count": 19,
   "id": "23945e32",
   "metadata": {},
   "outputs": [
    {
     "data": {
      "text/html": [
       "<div>\n",
       "<style scoped>\n",
       "    .dataframe tbody tr th:only-of-type {\n",
       "        vertical-align: middle;\n",
       "    }\n",
       "\n",
       "    .dataframe tbody tr th {\n",
       "        vertical-align: top;\n",
       "    }\n",
       "\n",
       "    .dataframe thead th {\n",
       "        text-align: right;\n",
       "    }\n",
       "</style>\n",
       "<table border=\"1\" class=\"dataframe\">\n",
       "  <thead>\n",
       "    <tr style=\"text-align: right;\">\n",
       "      <th></th>\n",
       "      <th>Hours Studied</th>\n",
       "      <th>Previous Scores</th>\n",
       "      <th>Extracurricular Activities</th>\n",
       "      <th>Sleep Hours</th>\n",
       "      <th>Sample Question Papers Practiced</th>\n",
       "      <th>Performance Index</th>\n",
       "    </tr>\n",
       "  </thead>\n",
       "  <tbody>\n",
       "    <tr>\n",
       "      <th>0</th>\n",
       "      <td>7</td>\n",
       "      <td>99</td>\n",
       "      <td>Yes</td>\n",
       "      <td>9</td>\n",
       "      <td>1</td>\n",
       "      <td>91.0</td>\n",
       "    </tr>\n",
       "    <tr>\n",
       "      <th>1</th>\n",
       "      <td>4</td>\n",
       "      <td>82</td>\n",
       "      <td>No</td>\n",
       "      <td>4</td>\n",
       "      <td>2</td>\n",
       "      <td>65.0</td>\n",
       "    </tr>\n",
       "    <tr>\n",
       "      <th>2</th>\n",
       "      <td>8</td>\n",
       "      <td>51</td>\n",
       "      <td>Yes</td>\n",
       "      <td>7</td>\n",
       "      <td>2</td>\n",
       "      <td>45.0</td>\n",
       "    </tr>\n",
       "  </tbody>\n",
       "</table>\n",
       "</div>"
      ],
      "text/plain": [
       "   Hours Studied  Previous Scores Extracurricular Activities  Sleep Hours  \\\n",
       "0              7               99                        Yes            9   \n",
       "1              4               82                         No            4   \n",
       "2              8               51                        Yes            7   \n",
       "\n",
       "   Sample Question Papers Practiced  Performance Index  \n",
       "0                                 1               91.0  \n",
       "1                                 2               65.0  \n",
       "2                                 2               45.0  "
      ]
     },
     "execution_count": 19,
     "metadata": {},
     "output_type": "execute_result"
    }
   ],
   "source": [
    "# read the data\n",
    "df = pd.read_csv(data + 'Student_Performance.csv')\n",
    "# view the data\n",
    "df.head(3)"
   ]
  },
  {
   "cell_type": "code",
   "execution_count": 5,
   "id": "4cbf03c6",
   "metadata": {},
   "outputs": [
    {
     "name": "stdout",
     "output_type": "stream",
     "text": [
      "<class 'pandas.core.frame.DataFrame'>\n",
      "RangeIndex: 10000 entries, 0 to 9999\n",
      "Data columns (total 6 columns):\n",
      " #   Column                            Non-Null Count  Dtype  \n",
      "---  ------                            --------------  -----  \n",
      " 0   Hours Studied                     10000 non-null  int64  \n",
      " 1   Previous Scores                   10000 non-null  int64  \n",
      " 2   Extracurricular Activities        10000 non-null  object \n",
      " 3   Sleep Hours                       10000 non-null  int64  \n",
      " 4   Sample Question Papers Practiced  10000 non-null  int64  \n",
      " 5   Performance Index                 10000 non-null  float64\n",
      "dtypes: float64(1), int64(4), object(1)\n",
      "memory usage: 468.9+ KB\n"
     ]
    }
   ],
   "source": [
    "df.info()"
   ]
  },
  {
   "cell_type": "code",
   "execution_count": 6,
   "id": "b1322e98",
   "metadata": {},
   "outputs": [
    {
     "data": {
      "image/png": "[encoded data removed]",
      "text/plain": [
       "<Figure size 1000x500 with 1 Axes>"
      ]
     },
     "metadata": {},
     "output_type": "display_data"
    }
   ],
   "source": [
    "# visualize a distribution of Student Performance\n",
    "plt.figure( figsize=(10, 5))\n",
    "sns.histplot(df['Performance Index'], kde=True)\n",
    "plt.title('Distribuition of Student Performance')\n",
    "plt.ylabel('Frequency of occurence')\n",
    "plt.xlabel('Student Performance')\n",
    "plt.show()"
   ]
  },
  {
   "cell_type": "code",
   "execution_count": 17,
   "id": "e8dfd34f",
   "metadata": {},
   "outputs": [],
   "source": [
    "df['StudyvSleep'] = df['Hours Studied'] / df['Sleep Hours']\n",
    "# df['StudyvPractice'] = df['Hours Studied'] / df['Sample Question Papers Practiced']"
   ]
  },
  {
   "cell_type": "code",
   "execution_count": 20,
   "id": "498ca661",
   "metadata": {},
   "outputs": [
    {
     "name": "stdout",
     "output_type": "stream",
     "text": [
      "Sleep Hours                          6\n",
      "Hours Studied                        9\n",
      "Sample Question Papers Practiced    10\n",
      "Previous Scores                     60\n",
      "Performance Index                   91\n",
      "dtype: int64\n"
     ]
    }
   ],
   "source": [
    "# check cardinality of the categorical features\n",
    "cardinality = df.select_dtypes(include ='number').nunique()\n",
    "print(cardinality.sort_values())"
   ]
  },
  {
   "cell_type": "code",
   "execution_count": 21,
   "id": "bb0401a9",
   "metadata": {},
   "outputs": [
    {
     "data": {
      "text/plain": [
       "['Extracurricular Activities']"
      ]
     },
     "execution_count": 21,
     "metadata": {},
     "output_type": "execute_result"
    }
   ],
   "source": [
    "# Assign target to variable\n",
    "target = 'Performance Index'\n",
    "\n",
    "# Identify categorical features\n",
    "cat_features = ['Extracurricular Activities']\n",
    "\n",
    "# view categorical features\n",
    "cat_features"
   ]
  },
  {
   "cell_type": "code",
   "execution_count": 22,
   "id": "180c7fb3",
   "metadata": {},
   "outputs": [
    {
     "name": "stdout",
     "output_type": "stream",
     "text": [
      "<class 'pandas.core.frame.DataFrame'>\n",
      "RangeIndex: 10000 entries, 0 to 9999\n",
      "Data columns (total 6 columns):\n",
      " #   Column                            Non-Null Count  Dtype  \n",
      "---  ------                            --------------  -----  \n",
      " 0   Hours Studied                     10000 non-null  int64  \n",
      " 1   Previous Scores                   10000 non-null  int64  \n",
      " 2   Extracurricular Activities        10000 non-null  object \n",
      " 3   Sleep Hours                       10000 non-null  int64  \n",
      " 4   Sample Question Papers Practiced  10000 non-null  int64  \n",
      " 5   Performance Index                 10000 non-null  float64\n",
      "dtypes: float64(1), int64(4), object(1)\n",
      "memory usage: 468.9+ KB\n"
     ]
    }
   ],
   "source": [
    "df.info()"
   ]
  },
  {
   "cell_type": "code",
   "execution_count": 23,
   "id": "c0b52edb",
   "metadata": {},
   "outputs": [
    {
     "data": {
      "text/html": [
       "<style type=\"text/css\">\n",
       "#T_12690_row10_col1 {\n",
       "  background-color: lightgreen;\n",
       "}\n",
       "</style>\n",
       "<table id=\"T_12690\">\n",
       "  <thead>\n",
       "    <tr>\n",
       "      <th class=\"blank level0\" >&nbsp;</th>\n",
       "      <th id=\"T_12690_level0_col0\" class=\"col_heading level0 col0\" >Description</th>\n",
       "      <th id=\"T_12690_level0_col1\" class=\"col_heading level0 col1\" >Value</th>\n",
       "    </tr>\n",
       "  </thead>\n",
       "  <tbody>\n",
       "    <tr>\n",
       "      <th id=\"T_12690_level0_row0\" class=\"row_heading level0 row0\" >0</th>\n",
       "      <td id=\"T_12690_row0_col0\" class=\"data row0 col0\" >Session id</td>\n",
       "      <td id=\"T_12690_row0_col1\" class=\"data row0 col1\" >40</td>\n",
       "    </tr>\n",
       "    <tr>\n",
       "      <th id=\"T_12690_level0_row1\" class=\"row_heading level0 row1\" >1</th>\n",
       "      <td id=\"T_12690_row1_col0\" class=\"data row1 col0\" >Target</td>\n",
       "      <td id=\"T_12690_row1_col1\" class=\"data row1 col1\" >Performance Index</td>\n",
       "    </tr>\n",
       "    <tr>\n",
       "      <th id=\"T_12690_level0_row2\" class=\"row_heading level0 row2\" >2</th>\n",
       "      <td id=\"T_12690_row2_col0\" class=\"data row2 col0\" >Target type</td>\n",
       "      <td id=\"T_12690_row2_col1\" class=\"data row2 col1\" >Regression</td>\n",
       "    </tr>\n",
       "    <tr>\n",
       "      <th id=\"T_12690_level0_row3\" class=\"row_heading level0 row3\" >3</th>\n",
       "      <td id=\"T_12690_row3_col0\" class=\"data row3 col0\" >Original data shape</td>\n",
       "      <td id=\"T_12690_row3_col1\" class=\"data row3 col1\" >(10000, 6)</td>\n",
       "    </tr>\n",
       "    <tr>\n",
       "      <th id=\"T_12690_level0_row4\" class=\"row_heading level0 row4\" >4</th>\n",
       "      <td id=\"T_12690_row4_col0\" class=\"data row4 col0\" >Transformed data shape</td>\n",
       "      <td id=\"T_12690_row4_col1\" class=\"data row4 col1\" >(10000, 6)</td>\n",
       "    </tr>\n",
       "    <tr>\n",
       "      <th id=\"T_12690_level0_row5\" class=\"row_heading level0 row5\" >5</th>\n",
       "      <td id=\"T_12690_row5_col0\" class=\"data row5 col0\" >Transformed train set shape</td>\n",
       "      <td id=\"T_12690_row5_col1\" class=\"data row5 col1\" >(7000, 6)</td>\n",
       "    </tr>\n",
       "    <tr>\n",
       "      <th id=\"T_12690_level0_row6\" class=\"row_heading level0 row6\" >6</th>\n",
       "      <td id=\"T_12690_row6_col0\" class=\"data row6 col0\" >Transformed test set shape</td>\n",
       "      <td id=\"T_12690_row6_col1\" class=\"data row6 col1\" >(3000, 6)</td>\n",
       "    </tr>\n",
       "    <tr>\n",
       "      <th id=\"T_12690_level0_row7\" class=\"row_heading level0 row7\" >7</th>\n",
       "      <td id=\"T_12690_row7_col0\" class=\"data row7 col0\" >Ordinal features</td>\n",
       "      <td id=\"T_12690_row7_col1\" class=\"data row7 col1\" >1</td>\n",
       "    </tr>\n",
       "    <tr>\n",
       "      <th id=\"T_12690_level0_row8\" class=\"row_heading level0 row8\" >8</th>\n",
       "      <td id=\"T_12690_row8_col0\" class=\"data row8 col0\" >Numeric features</td>\n",
       "      <td id=\"T_12690_row8_col1\" class=\"data row8 col1\" >4</td>\n",
       "    </tr>\n",
       "    <tr>\n",
       "      <th id=\"T_12690_level0_row9\" class=\"row_heading level0 row9\" >9</th>\n",
       "      <td id=\"T_12690_row9_col0\" class=\"data row9 col0\" >Categorical features</td>\n",
       "      <td id=\"T_12690_row9_col1\" class=\"data row9 col1\" >1</td>\n",
       "    </tr>\n",
       "    <tr>\n",
       "      <th id=\"T_12690_level0_row10\" class=\"row_heading level0 row10\" >10</th>\n",
       "      <td id=\"T_12690_row10_col0\" class=\"data row10 col0\" >Preprocess</td>\n",
       "      <td id=\"T_12690_row10_col1\" class=\"data row10 col1\" >True</td>\n",
       "    </tr>\n",
       "    <tr>\n",
       "      <th id=\"T_12690_level0_row11\" class=\"row_heading level0 row11\" >11</th>\n",
       "      <td id=\"T_12690_row11_col0\" class=\"data row11 col0\" >Imputation type</td>\n",
       "      <td id=\"T_12690_row11_col1\" class=\"data row11 col1\" >simple</td>\n",
       "    </tr>\n",
       "    <tr>\n",
       "      <th id=\"T_12690_level0_row12\" class=\"row_heading level0 row12\" >12</th>\n",
       "      <td id=\"T_12690_row12_col0\" class=\"data row12 col0\" >Numeric imputation</td>\n",
       "      <td id=\"T_12690_row12_col1\" class=\"data row12 col1\" >mean</td>\n",
       "    </tr>\n",
       "    <tr>\n",
       "      <th id=\"T_12690_level0_row13\" class=\"row_heading level0 row13\" >13</th>\n",
       "      <td id=\"T_12690_row13_col0\" class=\"data row13 col0\" >Categorical imputation</td>\n",
       "      <td id=\"T_12690_row13_col1\" class=\"data row13 col1\" >mode</td>\n",
       "    </tr>\n",
       "    <tr>\n",
       "      <th id=\"T_12690_level0_row14\" class=\"row_heading level0 row14\" >14</th>\n",
       "      <td id=\"T_12690_row14_col0\" class=\"data row14 col0\" >Maximum one-hot encoding</td>\n",
       "      <td id=\"T_12690_row14_col1\" class=\"data row14 col1\" >25</td>\n",
       "    </tr>\n",
       "    <tr>\n",
       "      <th id=\"T_12690_level0_row15\" class=\"row_heading level0 row15\" >15</th>\n",
       "      <td id=\"T_12690_row15_col0\" class=\"data row15 col0\" >Encoding method</td>\n",
       "      <td id=\"T_12690_row15_col1\" class=\"data row15 col1\" >None</td>\n",
       "    </tr>\n",
       "    <tr>\n",
       "      <th id=\"T_12690_level0_row16\" class=\"row_heading level0 row16\" >16</th>\n",
       "      <td id=\"T_12690_row16_col0\" class=\"data row16 col0\" >Fold Generator</td>\n",
       "      <td id=\"T_12690_row16_col1\" class=\"data row16 col1\" >KFold</td>\n",
       "    </tr>\n",
       "    <tr>\n",
       "      <th id=\"T_12690_level0_row17\" class=\"row_heading level0 row17\" >17</th>\n",
       "      <td id=\"T_12690_row17_col0\" class=\"data row17 col0\" >Fold Number</td>\n",
       "      <td id=\"T_12690_row17_col1\" class=\"data row17 col1\" >10</td>\n",
       "    </tr>\n",
       "    <tr>\n",
       "      <th id=\"T_12690_level0_row18\" class=\"row_heading level0 row18\" >18</th>\n",
       "      <td id=\"T_12690_row18_col0\" class=\"data row18 col0\" >CPU Jobs</td>\n",
       "      <td id=\"T_12690_row18_col1\" class=\"data row18 col1\" >-1</td>\n",
       "    </tr>\n",
       "    <tr>\n",
       "      <th id=\"T_12690_level0_row19\" class=\"row_heading level0 row19\" >19</th>\n",
       "      <td id=\"T_12690_row19_col0\" class=\"data row19 col0\" >Use GPU</td>\n",
       "      <td id=\"T_12690_row19_col1\" class=\"data row19 col1\" >False</td>\n",
       "    </tr>\n",
       "    <tr>\n",
       "      <th id=\"T_12690_level0_row20\" class=\"row_heading level0 row20\" >20</th>\n",
       "      <td id=\"T_12690_row20_col0\" class=\"data row20 col0\" >Log Experiment</td>\n",
       "      <td id=\"T_12690_row20_col1\" class=\"data row20 col1\" >False</td>\n",
       "    </tr>\n",
       "    <tr>\n",
       "      <th id=\"T_12690_level0_row21\" class=\"row_heading level0 row21\" >21</th>\n",
       "      <td id=\"T_12690_row21_col0\" class=\"data row21 col0\" >Experiment Name</td>\n",
       "      <td id=\"T_12690_row21_col1\" class=\"data row21 col1\" >reg-default-name</td>\n",
       "    </tr>\n",
       "    <tr>\n",
       "      <th id=\"T_12690_level0_row22\" class=\"row_heading level0 row22\" >22</th>\n",
       "      <td id=\"T_12690_row22_col0\" class=\"data row22 col0\" >USI</td>\n",
       "      <td id=\"T_12690_row22_col1\" class=\"data row22 col1\" >15d8</td>\n",
       "    </tr>\n",
       "  </tbody>\n",
       "</table>\n"
      ],
      "text/plain": [
       "<pandas.io.formats.style.Styler at 0x27f66c05810>"
      ]
     },
     "metadata": {},
     "output_type": "display_data"
    }
   ],
   "source": [
    "experiment = setup(data=df, target= target, categorical_features = cat_features,\n",
    "                    session_id=40)"
   ]
  },
  {
   "cell_type": "code",
   "execution_count": 24,
   "id": "5e14e3a4",
   "metadata": {},
   "outputs": [
    {
     "data": {
      "text/html": [],
      "text/plain": [
       "<IPython.core.display.HTML object>"
      ]
     },
     "metadata": {},
     "output_type": "display_data"
    },
    {
     "data": {
      "text/html": [
       "<style type=\"text/css\">\n",
       "#T_d5d8d th {\n",
       "  text-align: left;\n",
       "}\n",
       "#T_d5d8d_row0_col0, #T_d5d8d_row1_col0, #T_d5d8d_row2_col0, #T_d5d8d_row3_col0, #T_d5d8d_row4_col0, #T_d5d8d_row4_col1, #T_d5d8d_row4_col2, #T_d5d8d_row4_col3, #T_d5d8d_row5_col0, #T_d5d8d_row5_col1, #T_d5d8d_row5_col2, #T_d5d8d_row5_col3, #T_d5d8d_row5_col4, #T_d5d8d_row5_col5, #T_d5d8d_row5_col6, #T_d5d8d_row6_col0, #T_d5d8d_row6_col1, #T_d5d8d_row6_col2, #T_d5d8d_row6_col3, #T_d5d8d_row6_col4, #T_d5d8d_row6_col5, #T_d5d8d_row6_col6, #T_d5d8d_row7_col0, #T_d5d8d_row7_col1, #T_d5d8d_row7_col2, #T_d5d8d_row7_col3, #T_d5d8d_row7_col4, #T_d5d8d_row7_col5, #T_d5d8d_row7_col6, #T_d5d8d_row8_col0, #T_d5d8d_row8_col1, #T_d5d8d_row8_col2, #T_d5d8d_row8_col3, #T_d5d8d_row8_col4, #T_d5d8d_row8_col5, #T_d5d8d_row8_col6, #T_d5d8d_row9_col0, #T_d5d8d_row9_col1, #T_d5d8d_row9_col2, #T_d5d8d_row9_col3, #T_d5d8d_row9_col4, #T_d5d8d_row9_col5, #T_d5d8d_row9_col6, #T_d5d8d_row10_col0, #T_d5d8d_row10_col1, #T_d5d8d_row10_col2, #T_d5d8d_row10_col3, #T_d5d8d_row10_col4, #T_d5d8d_row10_col5, #T_d5d8d_row10_col6, #T_d5d8d_row11_col0, #T_d5d8d_row11_col1, #T_d5d8d_row11_col2, #T_d5d8d_row11_col3, #T_d5d8d_row11_col4, #T_d5d8d_row11_col5, #T_d5d8d_row11_col6, #T_d5d8d_row12_col0, #T_d5d8d_row12_col1, #T_d5d8d_row12_col2, #T_d5d8d_row12_col3, #T_d5d8d_row12_col4, #T_d5d8d_row12_col5, #T_d5d8d_row12_col6, #T_d5d8d_row13_col0, #T_d5d8d_row13_col1, #T_d5d8d_row13_col2, #T_d5d8d_row13_col3, #T_d5d8d_row13_col4, #T_d5d8d_row13_col5, #T_d5d8d_row13_col6, #T_d5d8d_row14_col0, #T_d5d8d_row14_col1, #T_d5d8d_row14_col2, #T_d5d8d_row14_col3, #T_d5d8d_row14_col4, #T_d5d8d_row14_col5, #T_d5d8d_row14_col6, #T_d5d8d_row15_col0, #T_d5d8d_row15_col1, #T_d5d8d_row15_col2, #T_d5d8d_row15_col3, #T_d5d8d_row15_col4, #T_d5d8d_row15_col5, #T_d5d8d_row15_col6, #T_d5d8d_row16_col0, #T_d5d8d_row16_col1, #T_d5d8d_row16_col2, #T_d5d8d_row16_col3, #T_d5d8d_row16_col4, #T_d5d8d_row16_col5, #T_d5d8d_row16_col6, #T_d5d8d_row17_col0, #T_d5d8d_row17_col1, #T_d5d8d_row17_col2, #T_d5d8d_row17_col3, #T_d5d8d_row17_col4, #T_d5d8d_row17_col5, #T_d5d8d_row17_col6, #T_d5d8d_row18_col0, #T_d5d8d_row18_col1, #T_d5d8d_row18_col2, #T_d5d8d_row18_col3, #T_d5d8d_row18_col4, #T_d5d8d_row18_col5, #T_d5d8d_row18_col6 {\n",
       "  text-align: left;\n",
       "}\n",
       "#T_d5d8d_row0_col1, #T_d5d8d_row0_col2, #T_d5d8d_row0_col3, #T_d5d8d_row0_col4, #T_d5d8d_row0_col5, #T_d5d8d_row0_col6, #T_d5d8d_row1_col1, #T_d5d8d_row1_col2, #T_d5d8d_row1_col3, #T_d5d8d_row1_col4, #T_d5d8d_row1_col5, #T_d5d8d_row1_col6, #T_d5d8d_row2_col1, #T_d5d8d_row2_col2, #T_d5d8d_row2_col3, #T_d5d8d_row2_col4, #T_d5d8d_row2_col5, #T_d5d8d_row2_col6, #T_d5d8d_row3_col1, #T_d5d8d_row3_col2, #T_d5d8d_row3_col3, #T_d5d8d_row3_col4, #T_d5d8d_row3_col5, #T_d5d8d_row3_col6, #T_d5d8d_row4_col4, #T_d5d8d_row4_col5, #T_d5d8d_row4_col6 {\n",
       "  text-align: left;\n",
       "  background-color: yellow;\n",
       "}\n",
       "#T_d5d8d_row0_col7, #T_d5d8d_row1_col7, #T_d5d8d_row2_col7, #T_d5d8d_row3_col7, #T_d5d8d_row4_col7, #T_d5d8d_row5_col7, #T_d5d8d_row6_col7, #T_d5d8d_row7_col7, #T_d5d8d_row8_col7, #T_d5d8d_row9_col7, #T_d5d8d_row10_col7, #T_d5d8d_row11_col7, #T_d5d8d_row12_col7, #T_d5d8d_row13_col7, #T_d5d8d_row14_col7, #T_d5d8d_row15_col7, #T_d5d8d_row16_col7, #T_d5d8d_row18_col7 {\n",
       "  text-align: left;\n",
       "  background-color: lightgrey;\n",
       "}\n",
       "#T_d5d8d_row17_col7 {\n",
       "  text-align: left;\n",
       "  background-color: yellow;\n",
       "  background-color: lightgrey;\n",
       "}\n",
       "</style>\n",
       "<table id=\"T_d5d8d\">\n",
       "  <thead>\n",
       "    <tr>\n",
       "      <th class=\"blank level0\" >&nbsp;</th>\n",
       "      <th id=\"T_d5d8d_level0_col0\" class=\"col_heading level0 col0\" >Model</th>\n",
       "      <th id=\"T_d5d8d_level0_col1\" class=\"col_heading level0 col1\" >MAE</th>\n",
       "      <th id=\"T_d5d8d_level0_col2\" class=\"col_heading level0 col2\" >MSE</th>\n",
       "      <th id=\"T_d5d8d_level0_col3\" class=\"col_heading level0 col3\" >RMSE</th>\n",
       "      <th id=\"T_d5d8d_level0_col4\" class=\"col_heading level0 col4\" >R2</th>\n",
       "      <th id=\"T_d5d8d_level0_col5\" class=\"col_heading level0 col5\" >RMSLE</th>\n",
       "      <th id=\"T_d5d8d_level0_col6\" class=\"col_heading level0 col6\" >MAPE</th>\n",
       "      <th id=\"T_d5d8d_level0_col7\" class=\"col_heading level0 col7\" >TT (Sec)</th>\n",
       "    </tr>\n",
       "  </thead>\n",
       "  <tbody>\n",
       "    <tr>\n",
       "      <th id=\"T_d5d8d_level0_row0\" class=\"row_heading level0 row0\" >lr</th>\n",
       "      <td id=\"T_d5d8d_row0_col0\" class=\"data row0 col0\" >Linear Regression</td>\n",
       "      <td id=\"T_d5d8d_row0_col1\" class=\"data row0 col1\" >1.6229</td>\n",
       "      <td id=\"T_d5d8d_row0_col2\" class=\"data row0 col2\" >4.1664</td>\n",
       "      <td id=\"T_d5d8d_row0_col3\" class=\"data row0 col3\" >2.0405</td>\n",
       "      <td id=\"T_d5d8d_row0_col4\" class=\"data row0 col4\" >0.9887</td>\n",
       "      <td id=\"T_d5d8d_row0_col5\" class=\"data row0 col5\" >0.0468</td>\n",
       "      <td id=\"T_d5d8d_row0_col6\" class=\"data row0 col6\" >0.0350</td>\n",
       "      <td id=\"T_d5d8d_row0_col7\" class=\"data row0 col7\" >0.6550</td>\n",
       "    </tr>\n",
       "    <tr>\n",
       "      <th id=\"T_d5d8d_level0_row1\" class=\"row_heading level0 row1\" >ridge</th>\n",
       "      <td id=\"T_d5d8d_row1_col0\" class=\"data row1 col0\" >Ridge Regression</td>\n",
       "      <td id=\"T_d5d8d_row1_col1\" class=\"data row1 col1\" >1.6229</td>\n",
       "      <td id=\"T_d5d8d_row1_col2\" class=\"data row1 col2\" >4.1664</td>\n",
       "      <td id=\"T_d5d8d_row1_col3\" class=\"data row1 col3\" >2.0405</td>\n",
       "      <td id=\"T_d5d8d_row1_col4\" class=\"data row1 col4\" >0.9887</td>\n",
       "      <td id=\"T_d5d8d_row1_col5\" class=\"data row1 col5\" >0.0468</td>\n",
       "      <td id=\"T_d5d8d_row1_col6\" class=\"data row1 col6\" >0.0350</td>\n",
       "      <td id=\"T_d5d8d_row1_col7\" class=\"data row1 col7\" >0.0270</td>\n",
       "    </tr>\n",
       "    <tr>\n",
       "      <th id=\"T_d5d8d_level0_row2\" class=\"row_heading level0 row2\" >lar</th>\n",
       "      <td id=\"T_d5d8d_row2_col0\" class=\"data row2 col0\" >Least Angle Regression</td>\n",
       "      <td id=\"T_d5d8d_row2_col1\" class=\"data row2 col1\" >1.6229</td>\n",
       "      <td id=\"T_d5d8d_row2_col2\" class=\"data row2 col2\" >4.1664</td>\n",
       "      <td id=\"T_d5d8d_row2_col3\" class=\"data row2 col3\" >2.0405</td>\n",
       "      <td id=\"T_d5d8d_row2_col4\" class=\"data row2 col4\" >0.9887</td>\n",
       "      <td id=\"T_d5d8d_row2_col5\" class=\"data row2 col5\" >0.0468</td>\n",
       "      <td id=\"T_d5d8d_row2_col6\" class=\"data row2 col6\" >0.0350</td>\n",
       "      <td id=\"T_d5d8d_row2_col7\" class=\"data row2 col7\" >0.0270</td>\n",
       "    </tr>\n",
       "    <tr>\n",
       "      <th id=\"T_d5d8d_level0_row3\" class=\"row_heading level0 row3\" >br</th>\n",
       "      <td id=\"T_d5d8d_row3_col0\" class=\"data row3 col0\" >Bayesian Ridge</td>\n",
       "      <td id=\"T_d5d8d_row3_col1\" class=\"data row3 col1\" >1.6229</td>\n",
       "      <td id=\"T_d5d8d_row3_col2\" class=\"data row3 col2\" >4.1664</td>\n",
       "      <td id=\"T_d5d8d_row3_col3\" class=\"data row3 col3\" >2.0405</td>\n",
       "      <td id=\"T_d5d8d_row3_col4\" class=\"data row3 col4\" >0.9887</td>\n",
       "      <td id=\"T_d5d8d_row3_col5\" class=\"data row3 col5\" >0.0468</td>\n",
       "      <td id=\"T_d5d8d_row3_col6\" class=\"data row3 col6\" >0.0350</td>\n",
       "      <td id=\"T_d5d8d_row3_col7\" class=\"data row3 col7\" >0.0280</td>\n",
       "    </tr>\n",
       "    <tr>\n",
       "      <th id=\"T_d5d8d_level0_row4\" class=\"row_heading level0 row4\" >huber</th>\n",
       "      <td id=\"T_d5d8d_row4_col0\" class=\"data row4 col0\" >Huber Regressor</td>\n",
       "      <td id=\"T_d5d8d_row4_col1\" class=\"data row4 col1\" >1.6231</td>\n",
       "      <td id=\"T_d5d8d_row4_col2\" class=\"data row4 col2\" >4.1677</td>\n",
       "      <td id=\"T_d5d8d_row4_col3\" class=\"data row4 col3\" >2.0408</td>\n",
       "      <td id=\"T_d5d8d_row4_col4\" class=\"data row4 col4\" >0.9887</td>\n",
       "      <td id=\"T_d5d8d_row4_col5\" class=\"data row4 col5\" >0.0468</td>\n",
       "      <td id=\"T_d5d8d_row4_col6\" class=\"data row4 col6\" >0.0350</td>\n",
       "      <td id=\"T_d5d8d_row4_col7\" class=\"data row4 col7\" >0.0570</td>\n",
       "    </tr>\n",
       "    <tr>\n",
       "      <th id=\"T_d5d8d_level0_row5\" class=\"row_heading level0 row5\" >gbr</th>\n",
       "      <td id=\"T_d5d8d_row5_col0\" class=\"data row5 col0\" >Gradient Boosting Regressor</td>\n",
       "      <td id=\"T_d5d8d_row5_col1\" class=\"data row5 col1\" >1.6870</td>\n",
       "      <td id=\"T_d5d8d_row5_col2\" class=\"data row5 col2\" >4.5095</td>\n",
       "      <td id=\"T_d5d8d_row5_col3\" class=\"data row5 col3\" >2.1227</td>\n",
       "      <td id=\"T_d5d8d_row5_col4\" class=\"data row5 col4\" >0.9878</td>\n",
       "      <td id=\"T_d5d8d_row5_col5\" class=\"data row5 col5\" >0.0489</td>\n",
       "      <td id=\"T_d5d8d_row5_col6\" class=\"data row5 col6\" >0.0364</td>\n",
       "      <td id=\"T_d5d8d_row5_col7\" class=\"data row5 col7\" >0.1680</td>\n",
       "    </tr>\n",
       "    <tr>\n",
       "      <th id=\"T_d5d8d_level0_row6\" class=\"row_heading level0 row6\" >lightgbm</th>\n",
       "      <td id=\"T_d5d8d_row6_col0\" class=\"data row6 col0\" >Light Gradient Boosting Machine</td>\n",
       "      <td id=\"T_d5d8d_row6_col1\" class=\"data row6 col1\" >1.6918</td>\n",
       "      <td id=\"T_d5d8d_row6_col2\" class=\"data row6 col2\" >4.5468</td>\n",
       "      <td id=\"T_d5d8d_row6_col3\" class=\"data row6 col3\" >2.1316</td>\n",
       "      <td id=\"T_d5d8d_row6_col4\" class=\"data row6 col4\" >0.9877</td>\n",
       "      <td id=\"T_d5d8d_row6_col5\" class=\"data row6 col5\" >0.0492</td>\n",
       "      <td id=\"T_d5d8d_row6_col6\" class=\"data row6 col6\" >0.0365</td>\n",
       "      <td id=\"T_d5d8d_row6_col7\" class=\"data row6 col7\" >0.3140</td>\n",
       "    </tr>\n",
       "    <tr>\n",
       "      <th id=\"T_d5d8d_level0_row7\" class=\"row_heading level0 row7\" >llar</th>\n",
       "      <td id=\"T_d5d8d_row7_col0\" class=\"data row7 col0\" >Lasso Least Angle Regression</td>\n",
       "      <td id=\"T_d5d8d_row7_col1\" class=\"data row7 col1\" >1.7537</td>\n",
       "      <td id=\"T_d5d8d_row7_col2\" class=\"data row7 col2\" >4.8762</td>\n",
       "      <td id=\"T_d5d8d_row7_col3\" class=\"data row7 col3\" >2.2068</td>\n",
       "      <td id=\"T_d5d8d_row7_col4\" class=\"data row7 col4\" >0.9868</td>\n",
       "      <td id=\"T_d5d8d_row7_col5\" class=\"data row7 col5\" >0.0511</td>\n",
       "      <td id=\"T_d5d8d_row7_col6\" class=\"data row7 col6\" >0.0381</td>\n",
       "      <td id=\"T_d5d8d_row7_col7\" class=\"data row7 col7\" >0.0270</td>\n",
       "    </tr>\n",
       "    <tr>\n",
       "      <th id=\"T_d5d8d_level0_row8\" class=\"row_heading level0 row8\" >lasso</th>\n",
       "      <td id=\"T_d5d8d_row8_col0\" class=\"data row8 col0\" >Lasso Regression</td>\n",
       "      <td id=\"T_d5d8d_row8_col1\" class=\"data row8 col1\" >1.7537</td>\n",
       "      <td id=\"T_d5d8d_row8_col2\" class=\"data row8 col2\" >4.8762</td>\n",
       "      <td id=\"T_d5d8d_row8_col3\" class=\"data row8 col3\" >2.2068</td>\n",
       "      <td id=\"T_d5d8d_row8_col4\" class=\"data row8 col4\" >0.9868</td>\n",
       "      <td id=\"T_d5d8d_row8_col5\" class=\"data row8 col5\" >0.0511</td>\n",
       "      <td id=\"T_d5d8d_row8_col6\" class=\"data row8 col6\" >0.0381</td>\n",
       "      <td id=\"T_d5d8d_row8_col7\" class=\"data row8 col7\" >0.0270</td>\n",
       "    </tr>\n",
       "    <tr>\n",
       "      <th id=\"T_d5d8d_level0_row9\" class=\"row_heading level0 row9\" >en</th>\n",
       "      <td id=\"T_d5d8d_row9_col0\" class=\"data row9 col0\" >Elastic Net</td>\n",
       "      <td id=\"T_d5d8d_row9_col1\" class=\"data row9 col1\" >1.7612</td>\n",
       "      <td id=\"T_d5d8d_row9_col2\" class=\"data row9 col2\" >4.9189</td>\n",
       "      <td id=\"T_d5d8d_row9_col3\" class=\"data row9 col3\" >2.2163</td>\n",
       "      <td id=\"T_d5d8d_row9_col4\" class=\"data row9 col4\" >0.9867</td>\n",
       "      <td id=\"T_d5d8d_row9_col5\" class=\"data row9 col5\" >0.0517</td>\n",
       "      <td id=\"T_d5d8d_row9_col6\" class=\"data row9 col6\" >0.0384</td>\n",
       "      <td id=\"T_d5d8d_row9_col7\" class=\"data row9 col7\" >0.0270</td>\n",
       "    </tr>\n",
       "    <tr>\n",
       "      <th id=\"T_d5d8d_level0_row10\" class=\"row_heading level0 row10\" >xgboost</th>\n",
       "      <td id=\"T_d5d8d_row10_col0\" class=\"data row10 col0\" >Extreme Gradient Boosting</td>\n",
       "      <td id=\"T_d5d8d_row10_col1\" class=\"data row10 col1\" >1.8121</td>\n",
       "      <td id=\"T_d5d8d_row10_col2\" class=\"data row10 col2\" >5.2540</td>\n",
       "      <td id=\"T_d5d8d_row10_col3\" class=\"data row10 col3\" >2.2915</td>\n",
       "      <td id=\"T_d5d8d_row10_col4\" class=\"data row10 col4\" >0.9858</td>\n",
       "      <td id=\"T_d5d8d_row10_col5\" class=\"data row10 col5\" >0.0537</td>\n",
       "      <td id=\"T_d5d8d_row10_col6\" class=\"data row10 col6\" >0.0393</td>\n",
       "      <td id=\"T_d5d8d_row10_col7\" class=\"data row10 col7\" >0.2140</td>\n",
       "    </tr>\n",
       "    <tr>\n",
       "      <th id=\"T_d5d8d_level0_row11\" class=\"row_heading level0 row11\" >rf</th>\n",
       "      <td id=\"T_d5d8d_row11_col0\" class=\"data row11 col0\" >Random Forest Regressor</td>\n",
       "      <td id=\"T_d5d8d_row11_col1\" class=\"data row11 col1\" >1.8700</td>\n",
       "      <td id=\"T_d5d8d_row11_col2\" class=\"data row11 col2\" >5.5416</td>\n",
       "      <td id=\"T_d5d8d_row11_col3\" class=\"data row11 col3\" >2.3537</td>\n",
       "      <td id=\"T_d5d8d_row11_col4\" class=\"data row11 col4\" >0.9850</td>\n",
       "      <td id=\"T_d5d8d_row11_col5\" class=\"data row11 col5\" >0.0546</td>\n",
       "      <td id=\"T_d5d8d_row11_col6\" class=\"data row11 col6\" >0.0405</td>\n",
       "      <td id=\"T_d5d8d_row11_col7\" class=\"data row11 col7\" >0.5350</td>\n",
       "    </tr>\n",
       "    <tr>\n",
       "      <th id=\"T_d5d8d_level0_row12\" class=\"row_heading level0 row12\" >knn</th>\n",
       "      <td id=\"T_d5d8d_row12_col0\" class=\"data row12 col0\" >K Neighbors Regressor</td>\n",
       "      <td id=\"T_d5d8d_row12_col1\" class=\"data row12 col1\" >1.9779</td>\n",
       "      <td id=\"T_d5d8d_row12_col2\" class=\"data row12 col2\" >6.2545</td>\n",
       "      <td id=\"T_d5d8d_row12_col3\" class=\"data row12 col3\" >2.5002</td>\n",
       "      <td id=\"T_d5d8d_row12_col4\" class=\"data row12 col4\" >0.9831</td>\n",
       "      <td id=\"T_d5d8d_row12_col5\" class=\"data row12 col5\" >0.0578</td>\n",
       "      <td id=\"T_d5d8d_row12_col6\" class=\"data row12 col6\" >0.0427</td>\n",
       "      <td id=\"T_d5d8d_row12_col7\" class=\"data row12 col7\" >0.0390</td>\n",
       "    </tr>\n",
       "    <tr>\n",
       "      <th id=\"T_d5d8d_level0_row13\" class=\"row_heading level0 row13\" >et</th>\n",
       "      <td id=\"T_d5d8d_row13_col0\" class=\"data row13 col0\" >Extra Trees Regressor</td>\n",
       "      <td id=\"T_d5d8d_row13_col1\" class=\"data row13 col1\" >2.0367</td>\n",
       "      <td id=\"T_d5d8d_row13_col2\" class=\"data row13 col2\" >6.5983</td>\n",
       "      <td id=\"T_d5d8d_row13_col3\" class=\"data row13 col3\" >2.5684</td>\n",
       "      <td id=\"T_d5d8d_row13_col4\" class=\"data row13 col4\" >0.9821</td>\n",
       "      <td id=\"T_d5d8d_row13_col5\" class=\"data row13 col5\" >0.0597</td>\n",
       "      <td id=\"T_d5d8d_row13_col6\" class=\"data row13 col6\" >0.0440</td>\n",
       "      <td id=\"T_d5d8d_row13_col7\" class=\"data row13 col7\" >0.5830</td>\n",
       "    </tr>\n",
       "    <tr>\n",
       "      <th id=\"T_d5d8d_level0_row14\" class=\"row_heading level0 row14\" >ada</th>\n",
       "      <td id=\"T_d5d8d_row14_col0\" class=\"data row14 col0\" >AdaBoost Regressor</td>\n",
       "      <td id=\"T_d5d8d_row14_col1\" class=\"data row14 col1\" >2.3258</td>\n",
       "      <td id=\"T_d5d8d_row14_col2\" class=\"data row14 col2\" >8.6490</td>\n",
       "      <td id=\"T_d5d8d_row14_col3\" class=\"data row14 col3\" >2.9381</td>\n",
       "      <td id=\"T_d5d8d_row14_col4\" class=\"data row14 col4\" >0.9766</td>\n",
       "      <td id=\"T_d5d8d_row14_col5\" class=\"data row14 col5\" >0.0707</td>\n",
       "      <td id=\"T_d5d8d_row14_col6\" class=\"data row14 col6\" >0.0520</td>\n",
       "      <td id=\"T_d5d8d_row14_col7\" class=\"data row14 col7\" >0.1880</td>\n",
       "    </tr>\n",
       "    <tr>\n",
       "      <th id=\"T_d5d8d_level0_row15\" class=\"row_heading level0 row15\" >dt</th>\n",
       "      <td id=\"T_d5d8d_row15_col0\" class=\"data row15 col0\" >Decision Tree Regressor</td>\n",
       "      <td id=\"T_d5d8d_row15_col1\" class=\"data row15 col1\" >2.4086</td>\n",
       "      <td id=\"T_d5d8d_row15_col2\" class=\"data row15 col2\" >9.4051</td>\n",
       "      <td id=\"T_d5d8d_row15_col3\" class=\"data row15 col3\" >3.0664</td>\n",
       "      <td id=\"T_d5d8d_row15_col4\" class=\"data row15 col4\" >0.9745</td>\n",
       "      <td id=\"T_d5d8d_row15_col5\" class=\"data row15 col5\" >0.0704</td>\n",
       "      <td id=\"T_d5d8d_row15_col6\" class=\"data row15 col6\" >0.0516</td>\n",
       "      <td id=\"T_d5d8d_row15_col7\" class=\"data row15 col7\" >0.0340</td>\n",
       "    </tr>\n",
       "    <tr>\n",
       "      <th id=\"T_d5d8d_level0_row16\" class=\"row_heading level0 row16\" >par</th>\n",
       "      <td id=\"T_d5d8d_row16_col0\" class=\"data row16 col0\" >Passive Aggressive Regressor</td>\n",
       "      <td id=\"T_d5d8d_row16_col1\" class=\"data row16 col1\" >2.8750</td>\n",
       "      <td id=\"T_d5d8d_row16_col2\" class=\"data row16 col2\" >17.3200</td>\n",
       "      <td id=\"T_d5d8d_row16_col3\" class=\"data row16 col3\" >3.3733</td>\n",
       "      <td id=\"T_d5d8d_row16_col4\" class=\"data row16 col4\" >0.9545</td>\n",
       "      <td id=\"T_d5d8d_row16_col5\" class=\"data row16 col5\" >0.0720</td>\n",
       "      <td id=\"T_d5d8d_row16_col6\" class=\"data row16 col6\" >0.0585</td>\n",
       "      <td id=\"T_d5d8d_row16_col7\" class=\"data row16 col7\" >0.0380</td>\n",
       "    </tr>\n",
       "    <tr>\n",
       "      <th id=\"T_d5d8d_level0_row17\" class=\"row_heading level0 row17\" >omp</th>\n",
       "      <td id=\"T_d5d8d_row17_col0\" class=\"data row17 col0\" >Orthogonal Matching Pursuit</td>\n",
       "      <td id=\"T_d5d8d_row17_col1\" class=\"data row17 col1\" >6.5767</td>\n",
       "      <td id=\"T_d5d8d_row17_col2\" class=\"data row17 col2\" >59.7157</td>\n",
       "      <td id=\"T_d5d8d_row17_col3\" class=\"data row17 col3\" >7.7261</td>\n",
       "      <td id=\"T_d5d8d_row17_col4\" class=\"data row17 col4\" >0.8383</td>\n",
       "      <td id=\"T_d5d8d_row17_col5\" class=\"data row17 col5\" >0.1730</td>\n",
       "      <td id=\"T_d5d8d_row17_col6\" class=\"data row17 col6\" >0.1447</td>\n",
       "      <td id=\"T_d5d8d_row17_col7\" class=\"data row17 col7\" >0.0260</td>\n",
       "    </tr>\n",
       "    <tr>\n",
       "      <th id=\"T_d5d8d_level0_row18\" class=\"row_heading level0 row18\" >dummy</th>\n",
       "      <td id=\"T_d5d8d_row18_col0\" class=\"data row18 col0\" >Dummy Regressor</td>\n",
       "      <td id=\"T_d5d8d_row18_col1\" class=\"data row18 col1\" >16.2251</td>\n",
       "      <td id=\"T_d5d8d_row18_col2\" class=\"data row18 col2\" >370.6239</td>\n",
       "      <td id=\"T_d5d8d_row18_col3\" class=\"data row18 col3\" >19.2474</td>\n",
       "      <td id=\"T_d5d8d_row18_col4\" class=\"data row18 col4\" >-0.0026</td>\n",
       "      <td id=\"T_d5d8d_row18_col5\" class=\"data row18 col5\" >0.3973</td>\n",
       "      <td id=\"T_d5d8d_row18_col6\" class=\"data row18 col6\" >0.3869</td>\n",
       "      <td id=\"T_d5d8d_row18_col7\" class=\"data row18 col7\" >0.0290</td>\n",
       "    </tr>\n",
       "  </tbody>\n",
       "</table>\n"
      ],
      "text/plain": [
       "<pandas.io.formats.style.Styler at 0x27f63136250>"
      ]
     },
     "metadata": {},
     "output_type": "display_data"
    },
    {
     "data": {
      "text/html": [],
      "text/plain": [
       "<IPython.core.display.HTML object>"
      ]
     },
     "metadata": {},
     "output_type": "display_data"
    }
   ],
   "source": [
    "# get the best model\n",
    "best_model = compare_models()"
   ]
  },
  {
   "cell_type": "code",
   "execution_count": 25,
   "id": "8404f7d1",
   "metadata": {},
   "outputs": [
    {
     "data": {
      "application/vnd.jupyter.widget-view+json": {
       "model_id": "4ada52a22ad54ad9ad95d68a5934c096",
       "version_major": 2,
       "version_minor": 0
      },
      "text/plain": [
       "interactive(children=(ToggleButtons(description='Plot Type:', icons=('',), options=(('Pipeline Plot', 'pipelin…"
      ]
     },
     "metadata": {},
     "output_type": "display_data"
    }
   ],
   "source": [
    "evaluate_model(best_model)"
   ]
  },
  {
   "cell_type": "code",
   "execution_count": 26,
   "id": "7ec1bcf1",
   "metadata": {},
   "outputs": [
    {
     "data": {
      "text/html": [],
      "text/plain": [
       "<IPython.core.display.HTML object>"
      ]
     },
     "metadata": {},
     "output_type": "display_data"
    },
    {
     "data": {
      "image/png": "[encoded data removed]",
      "text/plain": [
       "<Figure size 800x500 with 1 Axes>"
      ]
     },
     "metadata": {},
     "output_type": "display_data"
    }
   ],
   "source": [
    "# plot feature importance\n",
    "plot_model(best_model, plot = 'feature')"
   ]
  },
  {
   "cell_type": "code",
   "execution_count": 27,
   "id": "6b75db89",
   "metadata": {},
   "outputs": [
    {
     "name": "stdout",
     "output_type": "stream",
     "text": [
      "Transformation Pipeline and Model Successfully Saved\n"
     ]
    },
    {
     "data": {
      "text/plain": [
       "(Pipeline(memory=Memory(location=None),\n",
       "          steps=[('numerical_imputer',\n",
       "                  TransformerWrapper(include=['Hours Studied', 'Previous Scores',\n",
       "                                              'Sleep Hours',\n",
       "                                              'Sample Question Papers '\n",
       "                                              'Practiced'],\n",
       "                                     transformer=SimpleImputer())),\n",
       "                 ('categorical_imputer',\n",
       "                  TransformerWrapper(include=['Extracurricular Activities'],\n",
       "                                     transformer=SimpleImputer(strategy='most_frequent'))),\n",
       "                 ('ordinal_en...\n",
       "                  TransformerWrapper(include=['Extracurricular Activities'],\n",
       "                                     transformer=OrdinalEncoder(cols=['Extracurricular '\n",
       "                                                                      'Activities'],\n",
       "                                                                handle_missing='return_nan',\n",
       "                                                                mapping=[{'col': 'Extracurricular '\n",
       "                                                                                 'Activities',\n",
       "                                                                          'data_type': dtype('O'),\n",
       "                                                                          'mapping': No     0\n",
       " Yes    1\n",
       " NaN   -1\n",
       " dtype: int64}]))),\n",
       "                 ('clean_column_names',\n",
       "                  TransformerWrapper(transformer=CleanColumnNames())),\n",
       "                 ('trained_model', LinearRegression(n_jobs=-1))]),\n",
       " 'my_Possum_age_model.pkl')"
      ]
     },
     "execution_count": 27,
     "metadata": {},
     "output_type": "execute_result"
    }
   ],
   "source": [
    "# save model\n",
    "save_model(best_model, 'my_Possum_age_model')"
   ]
  }
 ],
 "metadata": {
  "kernelspec": {
   "display_name": "Python 3 (ipykernel)",
   "language": "python",
   "name": "python3"
  },
  "language_info": {
   "codemirror_mode": {
    "name": "ipython",
    "version": 3
   },
   "file_extension": ".py",
   "mimetype": "text/x-python",
   "name": "python",
   "nbconvert_exporter": "python",
   "pygments_lexer": "ipython3",
   "version": "3.11.5"
  }
 },
 "nbformat": 4,
 "nbformat_minor": 5
}

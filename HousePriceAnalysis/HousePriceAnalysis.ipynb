{
 "cells": [
  {
   "cell_type": "code",
   "execution_count": 1,
   "id": "5b75b71d",
   "metadata": {},
   "outputs": [],
   "source": [
    "# Import libraries\n",
    "import pandas as pd\n",
    "\n",
    "import matplotlib.pyplot as plt\n",
    "import numpy as np\n",
    "import seaborn as sns\n",
    "\n",
    "import kaggle\n",
    "\n",
    "from pycaret.regression import *"
   ]
  },
  {
   "cell_type": "code",
   "execution_count": 2,
   "id": "12aa46cc",
   "metadata": {},
   "outputs": [],
   "source": [
    "data = \"../data/\""
   ]
  },
  {
   "cell_type": "code",
   "execution_count": 3,
   "id": "4b44dcbf",
   "metadata": {},
   "outputs": [],
   "source": [
    "# import sklearn's california housing data\n",
    "from sklearn.datasets import fetch_california_housing"
   ]
  },
  {
   "cell_type": "code",
   "execution_count": 27,
   "id": "594f035b",
   "metadata": {},
   "outputs": [],
   "source": [
    "# Load the California housing dataset\n",
    "# data = fetch_california_housing()\n",
    "# X, y = data.data, data.target\n",
    "\n",
    "X, y = fetch_california_housing(return_X_y=True, as_frame=True)"
   ]
  },
  {
   "cell_type": "code",
   "execution_count": 28,
   "id": "4418352d",
   "metadata": {},
   "outputs": [
    {
     "data": {
      "text/html": [
       "<div>\n",
       "<style scoped>\n",
       "    .dataframe tbody tr th:only-of-type {\n",
       "        vertical-align: middle;\n",
       "    }\n",
       "\n",
       "    .dataframe tbody tr th {\n",
       "        vertical-align: top;\n",
       "    }\n",
       "\n",
       "    .dataframe thead th {\n",
       "        text-align: right;\n",
       "    }\n",
       "</style>\n",
       "<table border=\"1\" class=\"dataframe\">\n",
       "  <thead>\n",
       "    <tr style=\"text-align: right;\">\n",
       "      <th></th>\n",
       "      <th>MedInc</th>\n",
       "      <th>HouseAge</th>\n",
       "      <th>AveRooms</th>\n",
       "      <th>AveBedrms</th>\n",
       "      <th>Population</th>\n",
       "      <th>AveOccup</th>\n",
       "      <th>Latitude</th>\n",
       "      <th>Longitude</th>\n",
       "    </tr>\n",
       "  </thead>\n",
       "  <tbody>\n",
       "    <tr>\n",
       "      <th>0</th>\n",
       "      <td>8.3252</td>\n",
       "      <td>41.0</td>\n",
       "      <td>6.984127</td>\n",
       "      <td>1.023810</td>\n",
       "      <td>322.0</td>\n",
       "      <td>2.555556</td>\n",
       "      <td>37.88</td>\n",
       "      <td>-122.23</td>\n",
       "    </tr>\n",
       "    <tr>\n",
       "      <th>1</th>\n",
       "      <td>8.3014</td>\n",
       "      <td>21.0</td>\n",
       "      <td>6.238137</td>\n",
       "      <td>0.971880</td>\n",
       "      <td>2401.0</td>\n",
       "      <td>2.109842</td>\n",
       "      <td>37.86</td>\n",
       "      <td>-122.22</td>\n",
       "    </tr>\n",
       "    <tr>\n",
       "      <th>2</th>\n",
       "      <td>7.2574</td>\n",
       "      <td>52.0</td>\n",
       "      <td>8.288136</td>\n",
       "      <td>1.073446</td>\n",
       "      <td>496.0</td>\n",
       "      <td>2.802260</td>\n",
       "      <td>37.85</td>\n",
       "      <td>-122.24</td>\n",
       "    </tr>\n",
       "  </tbody>\n",
       "</table>\n",
       "</div>"
      ],
      "text/plain": [
       "   MedInc  HouseAge  AveRooms  AveBedrms  Population  AveOccup  Latitude  \\\n",
       "0  8.3252      41.0  6.984127   1.023810       322.0  2.555556     37.88   \n",
       "1  8.3014      21.0  6.238137   0.971880      2401.0  2.109842     37.86   \n",
       "2  7.2574      52.0  8.288136   1.073446       496.0  2.802260     37.85   \n",
       "\n",
       "   Longitude  \n",
       "0    -122.23  \n",
       "1    -122.22  \n",
       "2    -122.24  "
      ]
     },
     "execution_count": 28,
     "metadata": {},
     "output_type": "execute_result"
    }
   ],
   "source": [
    "X.head(3)"
   ]
  },
  {
   "cell_type": "code",
   "execution_count": 29,
   "id": "b38596ed",
   "metadata": {},
   "outputs": [
    {
     "data": {
      "text/plain": [
       "0    4.526\n",
       "1    3.585\n",
       "2    3.521\n",
       "Name: MedHouseVal, dtype: float64"
      ]
     },
     "execution_count": 29,
     "metadata": {},
     "output_type": "execute_result"
    }
   ],
   "source": [
    "y.head(3)"
   ]
  },
  {
   "cell_type": "code",
   "execution_count": 30,
   "id": "a5334e8d",
   "metadata": {},
   "outputs": [
    {
     "data": {
      "text/plain": [
       "pandas.core.series.Series"
      ]
     },
     "execution_count": 30,
     "metadata": {},
     "output_type": "execute_result"
    }
   ],
   "source": [
    "type(y)"
   ]
  },
  {
   "cell_type": "code",
   "execution_count": 32,
   "id": "d58d36f5",
   "metadata": {},
   "outputs": [
    {
     "data": {
      "text/html": [
       "<div>\n",
       "<style scoped>\n",
       "    .dataframe tbody tr th:only-of-type {\n",
       "        vertical-align: middle;\n",
       "    }\n",
       "\n",
       "    .dataframe tbody tr th {\n",
       "        vertical-align: top;\n",
       "    }\n",
       "\n",
       "    .dataframe thead th {\n",
       "        text-align: right;\n",
       "    }\n",
       "</style>\n",
       "<table border=\"1\" class=\"dataframe\">\n",
       "  <thead>\n",
       "    <tr style=\"text-align: right;\">\n",
       "      <th></th>\n",
       "      <th>MedHouseVal</th>\n",
       "    </tr>\n",
       "  </thead>\n",
       "  <tbody>\n",
       "    <tr>\n",
       "      <th>0</th>\n",
       "      <td>4.526</td>\n",
       "    </tr>\n",
       "    <tr>\n",
       "      <th>1</th>\n",
       "      <td>3.585</td>\n",
       "    </tr>\n",
       "    <tr>\n",
       "      <th>2</th>\n",
       "      <td>3.521</td>\n",
       "    </tr>\n",
       "    <tr>\n",
       "      <th>3</th>\n",
       "      <td>3.413</td>\n",
       "    </tr>\n",
       "    <tr>\n",
       "      <th>4</th>\n",
       "      <td>3.422</td>\n",
       "    </tr>\n",
       "  </tbody>\n",
       "</table>\n",
       "</div>"
      ],
      "text/plain": [
       "   MedHouseVal\n",
       "0        4.526\n",
       "1        3.585\n",
       "2        3.521\n",
       "3        3.413\n",
       "4        3.422"
      ]
     },
     "execution_count": 32,
     "metadata": {},
     "output_type": "execute_result"
    }
   ],
   "source": [
    "y = pd.DataFrame(y)\n",
    "y.head()"
   ]
  },
  {
   "cell_type": "code",
   "execution_count": 36,
   "id": "a4cf04dd",
   "metadata": {},
   "outputs": [
    {
     "data": {
      "text/html": [
       "<div>\n",
       "<style scoped>\n",
       "    .dataframe tbody tr th:only-of-type {\n",
       "        vertical-align: middle;\n",
       "    }\n",
       "\n",
       "    .dataframe tbody tr th {\n",
       "        vertical-align: top;\n",
       "    }\n",
       "\n",
       "    .dataframe thead th {\n",
       "        text-align: right;\n",
       "    }\n",
       "</style>\n",
       "<table border=\"1\" class=\"dataframe\">\n",
       "  <thead>\n",
       "    <tr style=\"text-align: right;\">\n",
       "      <th></th>\n",
       "      <th>MedInc</th>\n",
       "      <th>HouseAge</th>\n",
       "      <th>AveRooms</th>\n",
       "      <th>AveBedrms</th>\n",
       "      <th>Population</th>\n",
       "      <th>AveOccup</th>\n",
       "      <th>Latitude</th>\n",
       "      <th>Longitude</th>\n",
       "      <th>MedHouseVal</th>\n",
       "    </tr>\n",
       "  </thead>\n",
       "  <tbody>\n",
       "    <tr>\n",
       "      <th>0</th>\n",
       "      <td>8.3252</td>\n",
       "      <td>41.0</td>\n",
       "      <td>6.984127</td>\n",
       "      <td>1.023810</td>\n",
       "      <td>322.0</td>\n",
       "      <td>2.555556</td>\n",
       "      <td>37.88</td>\n",
       "      <td>-122.23</td>\n",
       "      <td>4.526</td>\n",
       "    </tr>\n",
       "    <tr>\n",
       "      <th>1</th>\n",
       "      <td>8.3014</td>\n",
       "      <td>21.0</td>\n",
       "      <td>6.238137</td>\n",
       "      <td>0.971880</td>\n",
       "      <td>2401.0</td>\n",
       "      <td>2.109842</td>\n",
       "      <td>37.86</td>\n",
       "      <td>-122.22</td>\n",
       "      <td>3.585</td>\n",
       "    </tr>\n",
       "    <tr>\n",
       "      <th>2</th>\n",
       "      <td>7.2574</td>\n",
       "      <td>52.0</td>\n",
       "      <td>8.288136</td>\n",
       "      <td>1.073446</td>\n",
       "      <td>496.0</td>\n",
       "      <td>2.802260</td>\n",
       "      <td>37.85</td>\n",
       "      <td>-122.24</td>\n",
       "      <td>3.521</td>\n",
       "    </tr>\n",
       "  </tbody>\n",
       "</table>\n",
       "</div>"
      ],
      "text/plain": [
       "   MedInc  HouseAge  AveRooms  AveBedrms  Population  AveOccup  Latitude  \\\n",
       "0  8.3252      41.0  6.984127   1.023810       322.0  2.555556     37.88   \n",
       "1  8.3014      21.0  6.238137   0.971880      2401.0  2.109842     37.86   \n",
       "2  7.2574      52.0  8.288136   1.073446       496.0  2.802260     37.85   \n",
       "\n",
       "   Longitude  MedHouseVal  \n",
       "0    -122.23        4.526  \n",
       "1    -122.22        3.585  \n",
       "2    -122.24        3.521  "
      ]
     },
     "execution_count": 36,
     "metadata": {},
     "output_type": "execute_result"
    }
   ],
   "source": [
    "df = X.copy()\n",
    "df['MedHouseVal'] = y\n",
    "\n",
    "df.head(3)"
   ]
  },
  {
   "cell_type": "code",
   "execution_count": 37,
   "id": "2475ba3e",
   "metadata": {},
   "outputs": [
    {
     "name": "stdout",
     "output_type": "stream",
     "text": [
      "<class 'pandas.core.frame.DataFrame'>\n",
      "RangeIndex: 20640 entries, 0 to 20639\n",
      "Data columns (total 9 columns):\n",
      " #   Column       Non-Null Count  Dtype  \n",
      "---  ------       --------------  -----  \n",
      " 0   MedInc       20640 non-null  float64\n",
      " 1   HouseAge     20640 non-null  float64\n",
      " 2   AveRooms     20640 non-null  float64\n",
      " 3   AveBedrms    20640 non-null  float64\n",
      " 4   Population   20640 non-null  float64\n",
      " 5   AveOccup     20640 non-null  float64\n",
      " 6   Latitude     20640 non-null  float64\n",
      " 7   Longitude    20640 non-null  float64\n",
      " 8   MedHouseVal  20640 non-null  float64\n",
      "dtypes: float64(9)\n",
      "memory usage: 1.4 MB\n"
     ]
    }
   ],
   "source": [
    "df.info()"
   ]
  },
  {
   "cell_type": "code",
   "execution_count": 38,
   "id": "55c035d2",
   "metadata": {},
   "outputs": [
    {
     "data": {
      "image/png": "[encoded data removed]",
      "text/plain": [
       "<Figure size 1000x500 with 1 Axes>"
      ]
     },
     "metadata": {},
     "output_type": "display_data"
    }
   ],
   "source": [
    "# visualize a distribution of the Median House Values in California\n",
    "plt.figure( figsize=(10, 5))\n",
    "sns.histplot(df['MedHouseVal'], kde=True)\n",
    "plt.title('Distribuition of Median House Values')\n",
    "plt.ylabel('Frequency')\n",
    "plt.xlabel('Median House Values in millions')\n",
    "plt.show()"
   ]
  },
  {
   "cell_type": "code",
   "execution_count": 39,
   "id": "83937096",
   "metadata": {},
   "outputs": [
    {
     "data": {
      "text/html": [
       "<style type=\"text/css\">\n",
       "#T_299b0_row8_col1 {\n",
       "  background-color: lightgreen;\n",
       "}\n",
       "</style>\n",
       "<table id=\"T_299b0\">\n",
       "  <thead>\n",
       "    <tr>\n",
       "      <th class=\"blank level0\" >&nbsp;</th>\n",
       "      <th id=\"T_299b0_level0_col0\" class=\"col_heading level0 col0\" >Description</th>\n",
       "      <th id=\"T_299b0_level0_col1\" class=\"col_heading level0 col1\" >Value</th>\n",
       "    </tr>\n",
       "  </thead>\n",
       "  <tbody>\n",
       "    <tr>\n",
       "      <th id=\"T_299b0_level0_row0\" class=\"row_heading level0 row0\" >0</th>\n",
       "      <td id=\"T_299b0_row0_col0\" class=\"data row0 col0\" >Session id</td>\n",
       "      <td id=\"T_299b0_row0_col1\" class=\"data row0 col1\" >40</td>\n",
       "    </tr>\n",
       "    <tr>\n",
       "      <th id=\"T_299b0_level0_row1\" class=\"row_heading level0 row1\" >1</th>\n",
       "      <td id=\"T_299b0_row1_col0\" class=\"data row1 col0\" >Target</td>\n",
       "      <td id=\"T_299b0_row1_col1\" class=\"data row1 col1\" >MedHouseVal</td>\n",
       "    </tr>\n",
       "    <tr>\n",
       "      <th id=\"T_299b0_level0_row2\" class=\"row_heading level0 row2\" >2</th>\n",
       "      <td id=\"T_299b0_row2_col0\" class=\"data row2 col0\" >Target type</td>\n",
       "      <td id=\"T_299b0_row2_col1\" class=\"data row2 col1\" >Regression</td>\n",
       "    </tr>\n",
       "    <tr>\n",
       "      <th id=\"T_299b0_level0_row3\" class=\"row_heading level0 row3\" >3</th>\n",
       "      <td id=\"T_299b0_row3_col0\" class=\"data row3 col0\" >Original data shape</td>\n",
       "      <td id=\"T_299b0_row3_col1\" class=\"data row3 col1\" >(20640, 9)</td>\n",
       "    </tr>\n",
       "    <tr>\n",
       "      <th id=\"T_299b0_level0_row4\" class=\"row_heading level0 row4\" >4</th>\n",
       "      <td id=\"T_299b0_row4_col0\" class=\"data row4 col0\" >Transformed data shape</td>\n",
       "      <td id=\"T_299b0_row4_col1\" class=\"data row4 col1\" >(20640, 9)</td>\n",
       "    </tr>\n",
       "    <tr>\n",
       "      <th id=\"T_299b0_level0_row5\" class=\"row_heading level0 row5\" >5</th>\n",
       "      <td id=\"T_299b0_row5_col0\" class=\"data row5 col0\" >Transformed train set shape</td>\n",
       "      <td id=\"T_299b0_row5_col1\" class=\"data row5 col1\" >(14447, 9)</td>\n",
       "    </tr>\n",
       "    <tr>\n",
       "      <th id=\"T_299b0_level0_row6\" class=\"row_heading level0 row6\" >6</th>\n",
       "      <td id=\"T_299b0_row6_col0\" class=\"data row6 col0\" >Transformed test set shape</td>\n",
       "      <td id=\"T_299b0_row6_col1\" class=\"data row6 col1\" >(6193, 9)</td>\n",
       "    </tr>\n",
       "    <tr>\n",
       "      <th id=\"T_299b0_level0_row7\" class=\"row_heading level0 row7\" >7</th>\n",
       "      <td id=\"T_299b0_row7_col0\" class=\"data row7 col0\" >Numeric features</td>\n",
       "      <td id=\"T_299b0_row7_col1\" class=\"data row7 col1\" >8</td>\n",
       "    </tr>\n",
       "    <tr>\n",
       "      <th id=\"T_299b0_level0_row8\" class=\"row_heading level0 row8\" >8</th>\n",
       "      <td id=\"T_299b0_row8_col0\" class=\"data row8 col0\" >Preprocess</td>\n",
       "      <td id=\"T_299b0_row8_col1\" class=\"data row8 col1\" >True</td>\n",
       "    </tr>\n",
       "    <tr>\n",
       "      <th id=\"T_299b0_level0_row9\" class=\"row_heading level0 row9\" >9</th>\n",
       "      <td id=\"T_299b0_row9_col0\" class=\"data row9 col0\" >Imputation type</td>\n",
       "      <td id=\"T_299b0_row9_col1\" class=\"data row9 col1\" >simple</td>\n",
       "    </tr>\n",
       "    <tr>\n",
       "      <th id=\"T_299b0_level0_row10\" class=\"row_heading level0 row10\" >10</th>\n",
       "      <td id=\"T_299b0_row10_col0\" class=\"data row10 col0\" >Numeric imputation</td>\n",
       "      <td id=\"T_299b0_row10_col1\" class=\"data row10 col1\" >mean</td>\n",
       "    </tr>\n",
       "    <tr>\n",
       "      <th id=\"T_299b0_level0_row11\" class=\"row_heading level0 row11\" >11</th>\n",
       "      <td id=\"T_299b0_row11_col0\" class=\"data row11 col0\" >Categorical imputation</td>\n",
       "      <td id=\"T_299b0_row11_col1\" class=\"data row11 col1\" >mode</td>\n",
       "    </tr>\n",
       "    <tr>\n",
       "      <th id=\"T_299b0_level0_row12\" class=\"row_heading level0 row12\" >12</th>\n",
       "      <td id=\"T_299b0_row12_col0\" class=\"data row12 col0\" >Fold Generator</td>\n",
       "      <td id=\"T_299b0_row12_col1\" class=\"data row12 col1\" >KFold</td>\n",
       "    </tr>\n",
       "    <tr>\n",
       "      <th id=\"T_299b0_level0_row13\" class=\"row_heading level0 row13\" >13</th>\n",
       "      <td id=\"T_299b0_row13_col0\" class=\"data row13 col0\" >Fold Number</td>\n",
       "      <td id=\"T_299b0_row13_col1\" class=\"data row13 col1\" >10</td>\n",
       "    </tr>\n",
       "    <tr>\n",
       "      <th id=\"T_299b0_level0_row14\" class=\"row_heading level0 row14\" >14</th>\n",
       "      <td id=\"T_299b0_row14_col0\" class=\"data row14 col0\" >CPU Jobs</td>\n",
       "      <td id=\"T_299b0_row14_col1\" class=\"data row14 col1\" >-1</td>\n",
       "    </tr>\n",
       "    <tr>\n",
       "      <th id=\"T_299b0_level0_row15\" class=\"row_heading level0 row15\" >15</th>\n",
       "      <td id=\"T_299b0_row15_col0\" class=\"data row15 col0\" >Use GPU</td>\n",
       "      <td id=\"T_299b0_row15_col1\" class=\"data row15 col1\" >False</td>\n",
       "    </tr>\n",
       "    <tr>\n",
       "      <th id=\"T_299b0_level0_row16\" class=\"row_heading level0 row16\" >16</th>\n",
       "      <td id=\"T_299b0_row16_col0\" class=\"data row16 col0\" >Log Experiment</td>\n",
       "      <td id=\"T_299b0_row16_col1\" class=\"data row16 col1\" >False</td>\n",
       "    </tr>\n",
       "    <tr>\n",
       "      <th id=\"T_299b0_level0_row17\" class=\"row_heading level0 row17\" >17</th>\n",
       "      <td id=\"T_299b0_row17_col0\" class=\"data row17 col0\" >Experiment Name</td>\n",
       "      <td id=\"T_299b0_row17_col1\" class=\"data row17 col1\" >reg-default-name</td>\n",
       "    </tr>\n",
       "    <tr>\n",
       "      <th id=\"T_299b0_level0_row18\" class=\"row_heading level0 row18\" >18</th>\n",
       "      <td id=\"T_299b0_row18_col0\" class=\"data row18 col0\" >USI</td>\n",
       "      <td id=\"T_299b0_row18_col1\" class=\"data row18 col1\" >ec89</td>\n",
       "    </tr>\n",
       "  </tbody>\n",
       "</table>\n"
      ],
      "text/plain": [
       "<pandas.io.formats.style.Styler at 0x2469d52b9d0>"
      ]
     },
     "metadata": {},
     "output_type": "display_data"
    }
   ],
   "source": [
    "experiment = setup(df, target = 'MedHouseVal', session_id=40)"
   ]
  },
  {
   "cell_type": "code",
   "execution_count": 40,
   "id": "fbd35c4a",
   "metadata": {
    "scrolled": true
   },
   "outputs": [
    {
     "data": {
      "text/html": [],
      "text/plain": [
       "<IPython.core.display.HTML object>"
      ]
     },
     "metadata": {},
     "output_type": "display_data"
    },
    {
     "data": {
      "text/html": [
       "<style type=\"text/css\">\n",
       "#T_1d4f8 th {\n",
       "  text-align: left;\n",
       "}\n",
       "#T_1d4f8_row0_col0, #T_1d4f8_row1_col0, #T_1d4f8_row1_col1, #T_1d4f8_row1_col2, #T_1d4f8_row1_col3, #T_1d4f8_row1_col4, #T_1d4f8_row1_col5, #T_1d4f8_row1_col6, #T_1d4f8_row2_col0, #T_1d4f8_row2_col1, #T_1d4f8_row2_col2, #T_1d4f8_row2_col3, #T_1d4f8_row2_col4, #T_1d4f8_row2_col5, #T_1d4f8_row2_col6, #T_1d4f8_row3_col0, #T_1d4f8_row3_col1, #T_1d4f8_row3_col2, #T_1d4f8_row3_col3, #T_1d4f8_row3_col4, #T_1d4f8_row3_col5, #T_1d4f8_row3_col6, #T_1d4f8_row4_col0, #T_1d4f8_row4_col1, #T_1d4f8_row4_col2, #T_1d4f8_row4_col3, #T_1d4f8_row4_col4, #T_1d4f8_row4_col5, #T_1d4f8_row4_col6, #T_1d4f8_row5_col0, #T_1d4f8_row5_col1, #T_1d4f8_row5_col2, #T_1d4f8_row5_col3, #T_1d4f8_row5_col4, #T_1d4f8_row5_col5, #T_1d4f8_row5_col6, #T_1d4f8_row6_col0, #T_1d4f8_row6_col1, #T_1d4f8_row6_col2, #T_1d4f8_row6_col3, #T_1d4f8_row6_col4, #T_1d4f8_row6_col5, #T_1d4f8_row6_col6, #T_1d4f8_row7_col0, #T_1d4f8_row7_col1, #T_1d4f8_row7_col2, #T_1d4f8_row7_col3, #T_1d4f8_row7_col4, #T_1d4f8_row7_col5, #T_1d4f8_row7_col6, #T_1d4f8_row8_col0, #T_1d4f8_row8_col1, #T_1d4f8_row8_col2, #T_1d4f8_row8_col3, #T_1d4f8_row8_col4, #T_1d4f8_row8_col5, #T_1d4f8_row8_col6, #T_1d4f8_row9_col0, #T_1d4f8_row9_col1, #T_1d4f8_row9_col2, #T_1d4f8_row9_col3, #T_1d4f8_row9_col4, #T_1d4f8_row9_col5, #T_1d4f8_row9_col6, #T_1d4f8_row10_col0, #T_1d4f8_row10_col1, #T_1d4f8_row10_col2, #T_1d4f8_row10_col3, #T_1d4f8_row10_col4, #T_1d4f8_row10_col5, #T_1d4f8_row10_col6, #T_1d4f8_row11_col0, #T_1d4f8_row11_col1, #T_1d4f8_row11_col2, #T_1d4f8_row11_col3, #T_1d4f8_row11_col4, #T_1d4f8_row11_col5, #T_1d4f8_row11_col6, #T_1d4f8_row12_col0, #T_1d4f8_row12_col1, #T_1d4f8_row12_col2, #T_1d4f8_row12_col3, #T_1d4f8_row12_col4, #T_1d4f8_row12_col5, #T_1d4f8_row12_col6, #T_1d4f8_row13_col0, #T_1d4f8_row13_col1, #T_1d4f8_row13_col2, #T_1d4f8_row13_col3, #T_1d4f8_row13_col4, #T_1d4f8_row13_col5, #T_1d4f8_row13_col6, #T_1d4f8_row14_col0, #T_1d4f8_row14_col1, #T_1d4f8_row14_col2, #T_1d4f8_row14_col3, #T_1d4f8_row14_col4, #T_1d4f8_row14_col5, #T_1d4f8_row14_col6, #T_1d4f8_row15_col0, #T_1d4f8_row15_col1, #T_1d4f8_row15_col2, #T_1d4f8_row15_col3, #T_1d4f8_row15_col4, #T_1d4f8_row15_col5, #T_1d4f8_row15_col6, #T_1d4f8_row16_col0, #T_1d4f8_row16_col1, #T_1d4f8_row16_col2, #T_1d4f8_row16_col3, #T_1d4f8_row16_col4, #T_1d4f8_row16_col5, #T_1d4f8_row16_col6, #T_1d4f8_row17_col0, #T_1d4f8_row17_col1, #T_1d4f8_row17_col2, #T_1d4f8_row17_col3, #T_1d4f8_row17_col4, #T_1d4f8_row17_col5, #T_1d4f8_row17_col6, #T_1d4f8_row18_col0, #T_1d4f8_row18_col1, #T_1d4f8_row18_col2, #T_1d4f8_row18_col3, #T_1d4f8_row18_col4, #T_1d4f8_row18_col5, #T_1d4f8_row18_col6 {\n",
       "  text-align: left;\n",
       "}\n",
       "#T_1d4f8_row0_col1, #T_1d4f8_row0_col2, #T_1d4f8_row0_col3, #T_1d4f8_row0_col4, #T_1d4f8_row0_col5, #T_1d4f8_row0_col6 {\n",
       "  text-align: left;\n",
       "  background-color: yellow;\n",
       "}\n",
       "#T_1d4f8_row0_col7, #T_1d4f8_row1_col7, #T_1d4f8_row2_col7, #T_1d4f8_row3_col7, #T_1d4f8_row4_col7, #T_1d4f8_row5_col7, #T_1d4f8_row6_col7, #T_1d4f8_row9_col7, #T_1d4f8_row10_col7, #T_1d4f8_row11_col7, #T_1d4f8_row12_col7, #T_1d4f8_row13_col7, #T_1d4f8_row14_col7, #T_1d4f8_row15_col7, #T_1d4f8_row16_col7, #T_1d4f8_row18_col7 {\n",
       "  text-align: left;\n",
       "  background-color: lightgrey;\n",
       "}\n",
       "#T_1d4f8_row7_col7, #T_1d4f8_row8_col7, #T_1d4f8_row17_col7 {\n",
       "  text-align: left;\n",
       "  background-color: yellow;\n",
       "  background-color: lightgrey;\n",
       "}\n",
       "</style>\n",
       "<table id=\"T_1d4f8\">\n",
       "  <thead>\n",
       "    <tr>\n",
       "      <th class=\"blank level0\" >&nbsp;</th>\n",
       "      <th id=\"T_1d4f8_level0_col0\" class=\"col_heading level0 col0\" >Model</th>\n",
       "      <th id=\"T_1d4f8_level0_col1\" class=\"col_heading level0 col1\" >MAE</th>\n",
       "      <th id=\"T_1d4f8_level0_col2\" class=\"col_heading level0 col2\" >MSE</th>\n",
       "      <th id=\"T_1d4f8_level0_col3\" class=\"col_heading level0 col3\" >RMSE</th>\n",
       "      <th id=\"T_1d4f8_level0_col4\" class=\"col_heading level0 col4\" >R2</th>\n",
       "      <th id=\"T_1d4f8_level0_col5\" class=\"col_heading level0 col5\" >RMSLE</th>\n",
       "      <th id=\"T_1d4f8_level0_col6\" class=\"col_heading level0 col6\" >MAPE</th>\n",
       "      <th id=\"T_1d4f8_level0_col7\" class=\"col_heading level0 col7\" >TT (Sec)</th>\n",
       "    </tr>\n",
       "  </thead>\n",
       "  <tbody>\n",
       "    <tr>\n",
       "      <th id=\"T_1d4f8_level0_row0\" class=\"row_heading level0 row0\" >lightgbm</th>\n",
       "      <td id=\"T_1d4f8_row0_col0\" class=\"data row0 col0\" >Light Gradient Boosting Machine</td>\n",
       "      <td id=\"T_1d4f8_row0_col1\" class=\"data row0 col1\" >0.3101</td>\n",
       "      <td id=\"T_1d4f8_row0_col2\" class=\"data row0 col2\" >0.2146</td>\n",
       "      <td id=\"T_1d4f8_row0_col3\" class=\"data row0 col3\" >0.4629</td>\n",
       "      <td id=\"T_1d4f8_row0_col4\" class=\"data row0 col4\" >0.8375</td>\n",
       "      <td id=\"T_1d4f8_row0_col5\" class=\"data row0 col5\" >0.1404</td>\n",
       "      <td id=\"T_1d4f8_row0_col6\" class=\"data row0 col6\" >0.1754</td>\n",
       "      <td id=\"T_1d4f8_row0_col7\" class=\"data row0 col7\" >0.2600</td>\n",
       "    </tr>\n",
       "    <tr>\n",
       "      <th id=\"T_1d4f8_level0_row1\" class=\"row_heading level0 row1\" >xgboost</th>\n",
       "      <td id=\"T_1d4f8_row1_col0\" class=\"data row1 col0\" >Extreme Gradient Boosting</td>\n",
       "      <td id=\"T_1d4f8_row1_col1\" class=\"data row1 col1\" >0.3146</td>\n",
       "      <td id=\"T_1d4f8_row1_col2\" class=\"data row1 col2\" >0.2226</td>\n",
       "      <td id=\"T_1d4f8_row1_col3\" class=\"data row1 col3\" >0.4715</td>\n",
       "      <td id=\"T_1d4f8_row1_col4\" class=\"data row1 col4\" >0.8314</td>\n",
       "      <td id=\"T_1d4f8_row1_col5\" class=\"data row1 col5\" >0.1427</td>\n",
       "      <td id=\"T_1d4f8_row1_col6\" class=\"data row1 col6\" >0.1761</td>\n",
       "      <td id=\"T_1d4f8_row1_col7\" class=\"data row1 col7\" >0.9430</td>\n",
       "    </tr>\n",
       "    <tr>\n",
       "      <th id=\"T_1d4f8_level0_row2\" class=\"row_heading level0 row2\" >et</th>\n",
       "      <td id=\"T_1d4f8_row2_col0\" class=\"data row2 col0\" >Extra Trees Regressor</td>\n",
       "      <td id=\"T_1d4f8_row2_col1\" class=\"data row2 col1\" >0.3282</td>\n",
       "      <td id=\"T_1d4f8_row2_col2\" class=\"data row2 col2\" >0.2485</td>\n",
       "      <td id=\"T_1d4f8_row2_col3\" class=\"data row2 col3\" >0.4982</td>\n",
       "      <td id=\"T_1d4f8_row2_col4\" class=\"data row2 col4\" >0.8117</td>\n",
       "      <td id=\"T_1d4f8_row2_col5\" class=\"data row2 col5\" >0.1468</td>\n",
       "      <td id=\"T_1d4f8_row2_col6\" class=\"data row2 col6\" >0.1817</td>\n",
       "      <td id=\"T_1d4f8_row2_col7\" class=\"data row2 col7\" >1.5550</td>\n",
       "    </tr>\n",
       "    <tr>\n",
       "      <th id=\"T_1d4f8_level0_row3\" class=\"row_heading level0 row3\" >rf</th>\n",
       "      <td id=\"T_1d4f8_row3_col0\" class=\"data row3 col0\" >Random Forest Regressor</td>\n",
       "      <td id=\"T_1d4f8_row3_col1\" class=\"data row3 col1\" >0.3371</td>\n",
       "      <td id=\"T_1d4f8_row3_col2\" class=\"data row3 col2\" >0.2629</td>\n",
       "      <td id=\"T_1d4f8_row3_col3\" class=\"data row3 col3\" >0.5124</td>\n",
       "      <td id=\"T_1d4f8_row3_col4\" class=\"data row3 col4\" >0.8008</td>\n",
       "      <td id=\"T_1d4f8_row3_col5\" class=\"data row3 col5\" >0.1531</td>\n",
       "      <td id=\"T_1d4f8_row3_col6\" class=\"data row3 col6\" >0.1913</td>\n",
       "      <td id=\"T_1d4f8_row3_col7\" class=\"data row3 col7\" >6.0960</td>\n",
       "    </tr>\n",
       "    <tr>\n",
       "      <th id=\"T_1d4f8_level0_row4\" class=\"row_heading level0 row4\" >gbr</th>\n",
       "      <td id=\"T_1d4f8_row4_col0\" class=\"data row4 col0\" >Gradient Boosting Regressor</td>\n",
       "      <td id=\"T_1d4f8_row4_col1\" class=\"data row4 col1\" >0.3664</td>\n",
       "      <td id=\"T_1d4f8_row4_col2\" class=\"data row4 col2\" >0.2803</td>\n",
       "      <td id=\"T_1d4f8_row4_col3\" class=\"data row4 col3\" >0.5291</td>\n",
       "      <td id=\"T_1d4f8_row4_col4\" class=\"data row4 col4\" >0.7878</td>\n",
       "      <td id=\"T_1d4f8_row4_col5\" class=\"data row4 col5\" >0.1616</td>\n",
       "      <td id=\"T_1d4f8_row4_col6\" class=\"data row4 col6\" >0.2099</td>\n",
       "      <td id=\"T_1d4f8_row4_col7\" class=\"data row4 col7\" >1.4660</td>\n",
       "    </tr>\n",
       "    <tr>\n",
       "      <th id=\"T_1d4f8_level0_row5\" class=\"row_heading level0 row5\" >br</th>\n",
       "      <td id=\"T_1d4f8_row5_col0\" class=\"data row5 col0\" >Bayesian Ridge</td>\n",
       "      <td id=\"T_1d4f8_row5_col1\" class=\"data row5 col1\" >0.5268</td>\n",
       "      <td id=\"T_1d4f8_row5_col2\" class=\"data row5 col2\" >0.5209</td>\n",
       "      <td id=\"T_1d4f8_row5_col3\" class=\"data row5 col3\" >0.7214</td>\n",
       "      <td id=\"T_1d4f8_row5_col4\" class=\"data row5 col4\" >0.6054</td>\n",
       "      <td id=\"T_1d4f8_row5_col5\" class=\"data row5 col5\" >0.2221</td>\n",
       "      <td id=\"T_1d4f8_row5_col6\" class=\"data row5 col6\" >0.3150</td>\n",
       "      <td id=\"T_1d4f8_row5_col7\" class=\"data row5 col7\" >0.0130</td>\n",
       "    </tr>\n",
       "    <tr>\n",
       "      <th id=\"T_1d4f8_level0_row6\" class=\"row_heading level0 row6\" >lr</th>\n",
       "      <td id=\"T_1d4f8_row6_col0\" class=\"data row6 col0\" >Linear Regression</td>\n",
       "      <td id=\"T_1d4f8_row6_col1\" class=\"data row6 col1\" >0.5267</td>\n",
       "      <td id=\"T_1d4f8_row6_col2\" class=\"data row6 col2\" >0.5210</td>\n",
       "      <td id=\"T_1d4f8_row6_col3\" class=\"data row6 col3\" >0.7215</td>\n",
       "      <td id=\"T_1d4f8_row6_col4\" class=\"data row6 col4\" >0.6053</td>\n",
       "      <td id=\"T_1d4f8_row6_col5\" class=\"data row6 col5\" >0.2221</td>\n",
       "      <td id=\"T_1d4f8_row6_col6\" class=\"data row6 col6\" >0.3150</td>\n",
       "      <td id=\"T_1d4f8_row6_col7\" class=\"data row6 col7\" >0.5700</td>\n",
       "    </tr>\n",
       "    <tr>\n",
       "      <th id=\"T_1d4f8_level0_row7\" class=\"row_heading level0 row7\" >ridge</th>\n",
       "      <td id=\"T_1d4f8_row7_col0\" class=\"data row7 col0\" >Ridge Regression</td>\n",
       "      <td id=\"T_1d4f8_row7_col1\" class=\"data row7 col1\" >0.5267</td>\n",
       "      <td id=\"T_1d4f8_row7_col2\" class=\"data row7 col2\" >0.5209</td>\n",
       "      <td id=\"T_1d4f8_row7_col3\" class=\"data row7 col3\" >0.7215</td>\n",
       "      <td id=\"T_1d4f8_row7_col4\" class=\"data row7 col4\" >0.6053</td>\n",
       "      <td id=\"T_1d4f8_row7_col5\" class=\"data row7 col5\" >0.2221</td>\n",
       "      <td id=\"T_1d4f8_row7_col6\" class=\"data row7 col6\" >0.3150</td>\n",
       "      <td id=\"T_1d4f8_row7_col7\" class=\"data row7 col7\" >0.0110</td>\n",
       "    </tr>\n",
       "    <tr>\n",
       "      <th id=\"T_1d4f8_level0_row8\" class=\"row_heading level0 row8\" >lar</th>\n",
       "      <td id=\"T_1d4f8_row8_col0\" class=\"data row8 col0\" >Least Angle Regression</td>\n",
       "      <td id=\"T_1d4f8_row8_col1\" class=\"data row8 col1\" >0.5248</td>\n",
       "      <td id=\"T_1d4f8_row8_col2\" class=\"data row8 col2\" >0.5233</td>\n",
       "      <td id=\"T_1d4f8_row8_col3\" class=\"data row8 col3\" >0.7229</td>\n",
       "      <td id=\"T_1d4f8_row8_col4\" class=\"data row8 col4\" >0.6035</td>\n",
       "      <td id=\"T_1d4f8_row8_col5\" class=\"data row8 col5\" >0.2215</td>\n",
       "      <td id=\"T_1d4f8_row8_col6\" class=\"data row8 col6\" >0.3121</td>\n",
       "      <td id=\"T_1d4f8_row8_col7\" class=\"data row8 col7\" >0.0110</td>\n",
       "    </tr>\n",
       "    <tr>\n",
       "      <th id=\"T_1d4f8_level0_row9\" class=\"row_heading level0 row9\" >dt</th>\n",
       "      <td id=\"T_1d4f8_row9_col0\" class=\"data row9 col0\" >Decision Tree Regressor</td>\n",
       "      <td id=\"T_1d4f8_row9_col1\" class=\"data row9 col1\" >0.4782</td>\n",
       "      <td id=\"T_1d4f8_row9_col2\" class=\"data row9 col2\" >0.5541</td>\n",
       "      <td id=\"T_1d4f8_row9_col3\" class=\"data row9 col3\" >0.7442</td>\n",
       "      <td id=\"T_1d4f8_row9_col4\" class=\"data row9 col4\" >0.5806</td>\n",
       "      <td id=\"T_1d4f8_row9_col5\" class=\"data row9 col5\" >0.2191</td>\n",
       "      <td id=\"T_1d4f8_row9_col6\" class=\"data row9 col6\" >0.2642</td>\n",
       "      <td id=\"T_1d4f8_row9_col7\" class=\"data row9 col7\" >0.0580</td>\n",
       "    </tr>\n",
       "    <tr>\n",
       "      <th id=\"T_1d4f8_level0_row10\" class=\"row_heading level0 row10\" >ada</th>\n",
       "      <td id=\"T_1d4f8_row10_col0\" class=\"data row10 col0\" >AdaBoost Regressor</td>\n",
       "      <td id=\"T_1d4f8_row10_col1\" class=\"data row10 col1\" >0.7311</td>\n",
       "      <td id=\"T_1d4f8_row10_col2\" class=\"data row10 col2\" >0.7269</td>\n",
       "      <td id=\"T_1d4f8_row10_col3\" class=\"data row10 col3\" >0.8512</td>\n",
       "      <td id=\"T_1d4f8_row10_col4\" class=\"data row10 col4\" >0.4501</td>\n",
       "      <td id=\"T_1d4f8_row10_col5\" class=\"data row10 col5\" >0.2912</td>\n",
       "      <td id=\"T_1d4f8_row10_col6\" class=\"data row10 col6\" >0.5442</td>\n",
       "      <td id=\"T_1d4f8_row10_col7\" class=\"data row10 col7\" >0.2950</td>\n",
       "    </tr>\n",
       "    <tr>\n",
       "      <th id=\"T_1d4f8_level0_row11\" class=\"row_heading level0 row11\" >en</th>\n",
       "      <td id=\"T_1d4f8_row11_col0\" class=\"data row11 col0\" >Elastic Net</td>\n",
       "      <td id=\"T_1d4f8_row11_col1\" class=\"data row11 col1\" >0.6753</td>\n",
       "      <td id=\"T_1d4f8_row11_col2\" class=\"data row11 col2\" >0.7597</td>\n",
       "      <td id=\"T_1d4f8_row11_col3\" class=\"data row11 col3\" >0.8715</td>\n",
       "      <td id=\"T_1d4f8_row11_col4\" class=\"data row11 col4\" >0.4252</td>\n",
       "      <td id=\"T_1d4f8_row11_col5\" class=\"data row11 col5\" >0.2769</td>\n",
       "      <td id=\"T_1d4f8_row11_col6\" class=\"data row11 col6\" >0.4525</td>\n",
       "      <td id=\"T_1d4f8_row11_col7\" class=\"data row11 col7\" >0.0150</td>\n",
       "    </tr>\n",
       "    <tr>\n",
       "      <th id=\"T_1d4f8_level0_row12\" class=\"row_heading level0 row12\" >lasso</th>\n",
       "      <td id=\"T_1d4f8_row12_col0\" class=\"data row12 col0\" >Lasso Regression</td>\n",
       "      <td id=\"T_1d4f8_row12_col1\" class=\"data row12 col1\" >0.7643</td>\n",
       "      <td id=\"T_1d4f8_row12_col2\" class=\"data row12 col2\" >0.9447</td>\n",
       "      <td id=\"T_1d4f8_row12_col3\" class=\"data row12 col3\" >0.9719</td>\n",
       "      <td id=\"T_1d4f8_row12_col4\" class=\"data row12 col4\" >0.2854</td>\n",
       "      <td id=\"T_1d4f8_row12_col5\" class=\"data row12 col5\" >0.3076</td>\n",
       "      <td id=\"T_1d4f8_row12_col6\" class=\"data row12 col6\" >0.5200</td>\n",
       "      <td id=\"T_1d4f8_row12_col7\" class=\"data row12 col7\" >0.0130</td>\n",
       "    </tr>\n",
       "    <tr>\n",
       "      <th id=\"T_1d4f8_level0_row13\" class=\"row_heading level0 row13\" >llar</th>\n",
       "      <td id=\"T_1d4f8_row13_col0\" class=\"data row13 col0\" >Lasso Least Angle Regression</td>\n",
       "      <td id=\"T_1d4f8_row13_col1\" class=\"data row13 col1\" >0.7643</td>\n",
       "      <td id=\"T_1d4f8_row13_col2\" class=\"data row13 col2\" >0.9447</td>\n",
       "      <td id=\"T_1d4f8_row13_col3\" class=\"data row13 col3\" >0.9719</td>\n",
       "      <td id=\"T_1d4f8_row13_col4\" class=\"data row13 col4\" >0.2854</td>\n",
       "      <td id=\"T_1d4f8_row13_col5\" class=\"data row13 col5\" >0.3076</td>\n",
       "      <td id=\"T_1d4f8_row13_col6\" class=\"data row13 col6\" >0.5200</td>\n",
       "      <td id=\"T_1d4f8_row13_col7\" class=\"data row13 col7\" >0.0120</td>\n",
       "    </tr>\n",
       "    <tr>\n",
       "      <th id=\"T_1d4f8_level0_row14\" class=\"row_heading level0 row14\" >par</th>\n",
       "      <td id=\"T_1d4f8_row14_col0\" class=\"data row14 col0\" >Passive Aggressive Regressor</td>\n",
       "      <td id=\"T_1d4f8_row14_col1\" class=\"data row14 col1\" >0.6821</td>\n",
       "      <td id=\"T_1d4f8_row14_col2\" class=\"data row14 col2\" >1.0356</td>\n",
       "      <td id=\"T_1d4f8_row14_col3\" class=\"data row14 col3\" >1.0048</td>\n",
       "      <td id=\"T_1d4f8_row14_col4\" class=\"data row14 col4\" >0.2113</td>\n",
       "      <td id=\"T_1d4f8_row14_col5\" class=\"data row14 col5\" >0.2850</td>\n",
       "      <td id=\"T_1d4f8_row14_col6\" class=\"data row14 col6\" >0.3748</td>\n",
       "      <td id=\"T_1d4f8_row14_col7\" class=\"data row14 col7\" >0.0210</td>\n",
       "    </tr>\n",
       "    <tr>\n",
       "      <th id=\"T_1d4f8_level0_row15\" class=\"row_heading level0 row15\" >knn</th>\n",
       "      <td id=\"T_1d4f8_row15_col0\" class=\"data row15 col0\" >K Neighbors Regressor</td>\n",
       "      <td id=\"T_1d4f8_row15_col1\" class=\"data row15 col1\" >0.8255</td>\n",
       "      <td id=\"T_1d4f8_row15_col2\" class=\"data row15 col2\" >1.1512</td>\n",
       "      <td id=\"T_1d4f8_row15_col3\" class=\"data row15 col3\" >1.0728</td>\n",
       "      <td id=\"T_1d4f8_row15_col4\" class=\"data row15 col4\" >0.1293</td>\n",
       "      <td id=\"T_1d4f8_row15_col5\" class=\"data row15 col5\" >0.3367</td>\n",
       "      <td id=\"T_1d4f8_row15_col6\" class=\"data row15 col6\" >0.5346</td>\n",
       "      <td id=\"T_1d4f8_row15_col7\" class=\"data row15 col7\" >0.0230</td>\n",
       "    </tr>\n",
       "    <tr>\n",
       "      <th id=\"T_1d4f8_level0_row16\" class=\"row_heading level0 row16\" >omp</th>\n",
       "      <td id=\"T_1d4f8_row16_col0\" class=\"data row16 col0\" >Orthogonal Matching Pursuit</td>\n",
       "      <td id=\"T_1d4f8_row16_col1\" class=\"data row16 col1\" >0.9082</td>\n",
       "      <td id=\"T_1d4f8_row16_col2\" class=\"data row16 col2\" >1.3232</td>\n",
       "      <td id=\"T_1d4f8_row16_col3\" class=\"data row16 col3\" >1.1502</td>\n",
       "      <td id=\"T_1d4f8_row16_col4\" class=\"data row16 col4\" >-0.0008</td>\n",
       "      <td id=\"T_1d4f8_row16_col5\" class=\"data row16 col5\" >0.3621</td>\n",
       "      <td id=\"T_1d4f8_row16_col6\" class=\"data row16 col6\" >0.6226</td>\n",
       "      <td id=\"T_1d4f8_row16_col7\" class=\"data row16 col7\" >0.0120</td>\n",
       "    </tr>\n",
       "    <tr>\n",
       "      <th id=\"T_1d4f8_level0_row17\" class=\"row_heading level0 row17\" >dummy</th>\n",
       "      <td id=\"T_1d4f8_row17_col0\" class=\"data row17 col0\" >Dummy Regressor</td>\n",
       "      <td id=\"T_1d4f8_row17_col1\" class=\"data row17 col1\" >0.9082</td>\n",
       "      <td id=\"T_1d4f8_row17_col2\" class=\"data row17 col2\" >1.3236</td>\n",
       "      <td id=\"T_1d4f8_row17_col3\" class=\"data row17 col3\" >1.1504</td>\n",
       "      <td id=\"T_1d4f8_row17_col4\" class=\"data row17 col4\" >-0.0011</td>\n",
       "      <td id=\"T_1d4f8_row17_col5\" class=\"data row17 col5\" >0.3619</td>\n",
       "      <td id=\"T_1d4f8_row17_col6\" class=\"data row17 col6\" >0.6219</td>\n",
       "      <td id=\"T_1d4f8_row17_col7\" class=\"data row17 col7\" >0.0110</td>\n",
       "    </tr>\n",
       "    <tr>\n",
       "      <th id=\"T_1d4f8_level0_row18\" class=\"row_heading level0 row18\" >huber</th>\n",
       "      <td id=\"T_1d4f8_row18_col0\" class=\"data row18 col0\" >Huber Regressor</td>\n",
       "      <td id=\"T_1d4f8_row18_col1\" class=\"data row18 col1\" >0.5738</td>\n",
       "      <td id=\"T_1d4f8_row18_col2\" class=\"data row18 col2\" >1.3727</td>\n",
       "      <td id=\"T_1d4f8_row18_col3\" class=\"data row18 col3\" >1.0503</td>\n",
       "      <td id=\"T_1d4f8_row18_col4\" class=\"data row18 col4\" >-0.0540</td>\n",
       "      <td id=\"T_1d4f8_row18_col5\" class=\"data row18 col5\" >0.2407</td>\n",
       "      <td id=\"T_1d4f8_row18_col6\" class=\"data row18 col6\" >0.3279</td>\n",
       "      <td id=\"T_1d4f8_row18_col7\" class=\"data row18 col7\" >0.1080</td>\n",
       "    </tr>\n",
       "  </tbody>\n",
       "</table>\n"
      ],
      "text/plain": [
       "<pandas.io.formats.style.Styler at 0x2469d140650>"
      ]
     },
     "metadata": {},
     "output_type": "display_data"
    },
    {
     "data": {
      "text/html": [],
      "text/plain": [
       "<IPython.core.display.HTML object>"
      ]
     },
     "metadata": {},
     "output_type": "display_data"
    }
   ],
   "source": [
    "best_model = compare_models()"
   ]
  },
  {
   "cell_type": "code",
   "execution_count": 41,
   "id": "ecf2beaf",
   "metadata": {},
   "outputs": [
    {
     "data": {
      "application/vnd.jupyter.widget-view+json": {
       "model_id": "c63de9255c874caca367f00d33e23f35",
       "version_major": 2,
       "version_minor": 0
      },
      "text/plain": [
       "interactive(children=(ToggleButtons(description='Plot Type:', icons=('',), options=(('Pipeline Plot', 'pipelin…"
      ]
     },
     "metadata": {},
     "output_type": "display_data"
    }
   ],
   "source": [
    "evaluate_model(best_model)"
   ]
  },
  {
   "cell_type": "code",
   "execution_count": 42,
   "id": "30309f8d",
   "metadata": {},
   "outputs": [
    {
     "data": {
      "text/html": [],
      "text/plain": [
       "<IPython.core.display.HTML object>"
      ]
     },
     "metadata": {},
     "output_type": "display_data"
    },
    {
     "data": {
      "image/png": "[encoded data removed]",
      "text/plain": [
       "<Figure size 800x500 with 1 Axes>"
      ]
     },
     "metadata": {},
     "output_type": "display_data"
    }
   ],
   "source": [
    "# plot feature importance\n",
    "plot_model(best_model, plot = 'feature')"
   ]
  },
  {
   "cell_type": "code",
   "execution_count": 43,
   "id": "87357ec6",
   "metadata": {},
   "outputs": [
    {
     "name": "stdout",
     "output_type": "stream",
     "text": [
      "Transformation Pipeline and Model Successfully Saved\n"
     ]
    },
    {
     "data": {
      "text/plain": [
       "(Pipeline(memory=Memory(location=None),\n",
       "          steps=[('numerical_imputer',\n",
       "                  TransformerWrapper(include=['MedInc', 'HouseAge', 'AveRooms',\n",
       "                                              'AveBedrms', 'Population',\n",
       "                                              'AveOccup', 'Latitude',\n",
       "                                              'Longitude'],\n",
       "                                     transformer=SimpleImputer())),\n",
       "                 ('categorical_imputer',\n",
       "                  TransformerWrapper(include=[],\n",
       "                                     transformer=SimpleImputer(strategy='most_frequent'))),\n",
       "                 ('trained_model', LGBMRegressor(random_state=40))]),\n",
       " 'my_california_house_price_model.pkl')"
      ]
     },
     "execution_count": 43,
     "metadata": {},
     "output_type": "execute_result"
    }
   ],
   "source": [
    "# save model\n",
    "save_model(best_model, 'my_california_house_price_model')"
   ]
  }
 ],
 "metadata": {
  "kernelspec": {
   "display_name": "Python 3 (ipykernel)",
   "language": "python",
   "name": "python3"
  },
  "language_info": {
   "codemirror_mode": {
    "name": "ipython",
    "version": 3
   },
   "file_extension": ".py",
   "mimetype": "text/x-python",
   "name": "python",
   "nbconvert_exporter": "python",
   "pygments_lexer": "ipython3",
   "version": "3.11.5"
  }
 },
 "nbformat": 4,
 "nbformat_minor": 5
}

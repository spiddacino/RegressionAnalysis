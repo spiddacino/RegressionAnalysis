{
 "cells": [
  {
   "cell_type": "code",
   "execution_count": 1,
   "id": "d97c4beb",
   "metadata": {},
   "outputs": [],
   "source": [
    "# Import libraries\n",
    "import pandas as pd\n",
    "\n",
    "import matplotlib.pyplot as plt\n",
    "import numpy as np\n",
    "import seaborn as sns\n",
    "\n",
    "import kaggle\n",
    "\n",
    "from pycaret.regression import *"
   ]
  },
  {
   "cell_type": "code",
   "execution_count": 2,
   "id": "d34912b7",
   "metadata": {},
   "outputs": [],
   "source": [
    "data = \"../data/\""
   ]
  },
  {
   "cell_type": "code",
   "execution_count": 6,
   "id": "4c86a2d6",
   "metadata": {},
   "outputs": [
    {
     "data": {
      "text/html": [
       "<div>\n",
       "<style scoped>\n",
       "    .dataframe tbody tr th:only-of-type {\n",
       "        vertical-align: middle;\n",
       "    }\n",
       "\n",
       "    .dataframe tbody tr th {\n",
       "        vertical-align: top;\n",
       "    }\n",
       "\n",
       "    .dataframe thead th {\n",
       "        text-align: right;\n",
       "    }\n",
       "</style>\n",
       "<table border=\"1\" class=\"dataframe\">\n",
       "  <thead>\n",
       "    <tr style=\"text-align: right;\">\n",
       "      <th></th>\n",
       "      <th>date</th>\n",
       "      <th>quarter</th>\n",
       "      <th>department</th>\n",
       "      <th>day</th>\n",
       "      <th>team</th>\n",
       "      <th>targeted_productivity</th>\n",
       "      <th>smv</th>\n",
       "      <th>wip</th>\n",
       "      <th>over_time</th>\n",
       "      <th>incentive</th>\n",
       "      <th>idle_time</th>\n",
       "      <th>idle_men</th>\n",
       "      <th>no_of_style_change</th>\n",
       "      <th>no_of_workers</th>\n",
       "      <th>actual_productivity</th>\n",
       "    </tr>\n",
       "  </thead>\n",
       "  <tbody>\n",
       "    <tr>\n",
       "      <th>0</th>\n",
       "      <td>1/1/2015</td>\n",
       "      <td>Quarter1</td>\n",
       "      <td>sweing</td>\n",
       "      <td>Thursday</td>\n",
       "      <td>8</td>\n",
       "      <td>0.80</td>\n",
       "      <td>26.16</td>\n",
       "      <td>1108.0</td>\n",
       "      <td>7080</td>\n",
       "      <td>98</td>\n",
       "      <td>0.0</td>\n",
       "      <td>0</td>\n",
       "      <td>0</td>\n",
       "      <td>59.0</td>\n",
       "      <td>0.940725</td>\n",
       "    </tr>\n",
       "    <tr>\n",
       "      <th>1</th>\n",
       "      <td>1/1/2015</td>\n",
       "      <td>Quarter1</td>\n",
       "      <td>finishing</td>\n",
       "      <td>Thursday</td>\n",
       "      <td>1</td>\n",
       "      <td>0.75</td>\n",
       "      <td>3.94</td>\n",
       "      <td>NaN</td>\n",
       "      <td>960</td>\n",
       "      <td>0</td>\n",
       "      <td>0.0</td>\n",
       "      <td>0</td>\n",
       "      <td>0</td>\n",
       "      <td>8.0</td>\n",
       "      <td>0.886500</td>\n",
       "    </tr>\n",
       "    <tr>\n",
       "      <th>2</th>\n",
       "      <td>1/1/2015</td>\n",
       "      <td>Quarter1</td>\n",
       "      <td>sweing</td>\n",
       "      <td>Thursday</td>\n",
       "      <td>11</td>\n",
       "      <td>0.80</td>\n",
       "      <td>11.41</td>\n",
       "      <td>968.0</td>\n",
       "      <td>3660</td>\n",
       "      <td>50</td>\n",
       "      <td>0.0</td>\n",
       "      <td>0</td>\n",
       "      <td>0</td>\n",
       "      <td>30.5</td>\n",
       "      <td>0.800570</td>\n",
       "    </tr>\n",
       "  </tbody>\n",
       "</table>\n",
       "</div>"
      ],
      "text/plain": [
       "       date   quarter  department       day  team  targeted_productivity  \\\n",
       "0  1/1/2015  Quarter1      sweing  Thursday     8                   0.80   \n",
       "1  1/1/2015  Quarter1  finishing   Thursday     1                   0.75   \n",
       "2  1/1/2015  Quarter1      sweing  Thursday    11                   0.80   \n",
       "\n",
       "     smv     wip  over_time  incentive  idle_time  idle_men  \\\n",
       "0  26.16  1108.0       7080         98        0.0         0   \n",
       "1   3.94     NaN        960          0        0.0         0   \n",
       "2  11.41   968.0       3660         50        0.0         0   \n",
       "\n",
       "   no_of_style_change  no_of_workers  actual_productivity  \n",
       "0                   0           59.0             0.940725  \n",
       "1                   0            8.0             0.886500  \n",
       "2                   0           30.5             0.800570  "
      ]
     },
     "execution_count": 6,
     "metadata": {},
     "output_type": "execute_result"
    }
   ],
   "source": [
    "# read the data\n",
    "df = pd.read_csv(data + 'garments_worker_productivity.csv')\n",
    "# view the data\n",
    "df.head(3)"
   ]
  },
  {
   "cell_type": "code",
   "execution_count": 8,
   "id": "882567fc",
   "metadata": {},
   "outputs": [
    {
     "name": "stdout",
     "output_type": "stream",
     "text": [
      "<class 'pandas.core.frame.DataFrame'>\n",
      "RangeIndex: 1197 entries, 0 to 1196\n",
      "Data columns (total 15 columns):\n",
      " #   Column                 Non-Null Count  Dtype  \n",
      "---  ------                 --------------  -----  \n",
      " 0   date                   1197 non-null   object \n",
      " 1   quarter                1197 non-null   object \n",
      " 2   department             1197 non-null   object \n",
      " 3   day                    1197 non-null   object \n",
      " 4   team                   1197 non-null   int64  \n",
      " 5   targeted_productivity  1197 non-null   float64\n",
      " 6   smv                    1197 non-null   float64\n",
      " 7   wip                    691 non-null    float64\n",
      " 8   over_time              1197 non-null   int64  \n",
      " 9   incentive              1197 non-null   int64  \n",
      " 10  idle_time              1197 non-null   float64\n",
      " 11  idle_men               1197 non-null   int64  \n",
      " 12  no_of_style_change     1197 non-null   int64  \n",
      " 13  no_of_workers          1197 non-null   float64\n",
      " 14  actual_productivity    1197 non-null   float64\n",
      "dtypes: float64(6), int64(5), object(4)\n",
      "memory usage: 140.4+ KB\n"
     ]
    }
   ],
   "source": [
    "df.info()"
   ]
  },
  {
   "cell_type": "code",
   "execution_count": 9,
   "id": "3285d541",
   "metadata": {},
   "outputs": [
    {
     "data": {
      "image/png": "[encoded data removed]",
      "text/plain": [
       "<Figure size 1000x500 with 1 Axes>"
      ]
     },
     "metadata": {},
     "output_type": "display_data"
    }
   ],
   "source": [
    "# visualize a distribution of productivity of workers\n",
    "plt.figure( figsize=(10, 5))\n",
    "sns.histplot(df['actual_productivity'], kde=True)\n",
    "plt.title('Distribution of Workers Productivity')\n",
    "plt.ylabel('Frequency of occurence')\n",
    "plt.xlabel('Workers Productivity')\n",
    "plt.show()"
   ]
  },
  {
   "cell_type": "code",
   "execution_count": 13,
   "id": "eedc236a",
   "metadata": {},
   "outputs": [
    {
     "name": "stdout",
     "output_type": "stream",
     "text": [
      "no_of_style_change         3\n",
      "targeted_productivity      9\n",
      "idle_men                  10\n",
      "team                      12\n",
      "idle_time                 12\n",
      "incentive                 48\n",
      "no_of_workers             61\n",
      "smv                       70\n",
      "over_time                143\n",
      "wip                      548\n",
      "actual_productivity      879\n",
      "dtype: int64\n"
     ]
    }
   ],
   "source": [
    "# check cardinality of the categorical features\n",
    "cardinality = df.select_dtypes(include='number').nunique()\n",
    "print(cardinality.sort_values())"
   ]
  },
  {
   "cell_type": "code",
   "execution_count": 14,
   "id": "46c4364f",
   "metadata": {},
   "outputs": [
    {
     "data": {
      "text/plain": [
       "['quarter', 'department', 'day']"
      ]
     },
     "execution_count": 14,
     "metadata": {},
     "output_type": "execute_result"
    }
   ],
   "source": [
    "# Assign target to variable\n",
    "target = 'actual_productivity'\n",
    "\n",
    "# Identify categorical features\n",
    "cat_features = ['quarter', 'department', 'day']\n",
    "\n",
    "# view categorical features\n",
    "cat_features"
   ]
  },
  {
   "cell_type": "code",
   "execution_count": 15,
   "id": "657eca9d",
   "metadata": {},
   "outputs": [
    {
     "data": {
      "text/html": [
       "<style type=\"text/css\">\n",
       "#T_14938_row10_col1 {\n",
       "  background-color: lightgreen;\n",
       "}\n",
       "</style>\n",
       "<table id=\"T_14938\">\n",
       "  <thead>\n",
       "    <tr>\n",
       "      <th class=\"blank level0\" >&nbsp;</th>\n",
       "      <th id=\"T_14938_level0_col0\" class=\"col_heading level0 col0\" >Description</th>\n",
       "      <th id=\"T_14938_level0_col1\" class=\"col_heading level0 col1\" >Value</th>\n",
       "    </tr>\n",
       "  </thead>\n",
       "  <tbody>\n",
       "    <tr>\n",
       "      <th id=\"T_14938_level0_row0\" class=\"row_heading level0 row0\" >0</th>\n",
       "      <td id=\"T_14938_row0_col0\" class=\"data row0 col0\" >Session id</td>\n",
       "      <td id=\"T_14938_row0_col1\" class=\"data row0 col1\" >40</td>\n",
       "    </tr>\n",
       "    <tr>\n",
       "      <th id=\"T_14938_level0_row1\" class=\"row_heading level0 row1\" >1</th>\n",
       "      <td id=\"T_14938_row1_col0\" class=\"data row1 col0\" >Target</td>\n",
       "      <td id=\"T_14938_row1_col1\" class=\"data row1 col1\" >actual_productivity</td>\n",
       "    </tr>\n",
       "    <tr>\n",
       "      <th id=\"T_14938_level0_row2\" class=\"row_heading level0 row2\" >2</th>\n",
       "      <td id=\"T_14938_row2_col0\" class=\"data row2 col0\" >Target type</td>\n",
       "      <td id=\"T_14938_row2_col1\" class=\"data row2 col1\" >Regression</td>\n",
       "    </tr>\n",
       "    <tr>\n",
       "      <th id=\"T_14938_level0_row3\" class=\"row_heading level0 row3\" >3</th>\n",
       "      <td id=\"T_14938_row3_col0\" class=\"data row3 col0\" >Original data shape</td>\n",
       "      <td id=\"T_14938_row3_col1\" class=\"data row3 col1\" >(1197, 15)</td>\n",
       "    </tr>\n",
       "    <tr>\n",
       "      <th id=\"T_14938_level0_row4\" class=\"row_heading level0 row4\" >4</th>\n",
       "      <td id=\"T_14938_row4_col0\" class=\"data row4 col0\" >Transformed data shape</td>\n",
       "      <td id=\"T_14938_row4_col1\" class=\"data row4 col1\" >(1197, 26)</td>\n",
       "    </tr>\n",
       "    <tr>\n",
       "      <th id=\"T_14938_level0_row5\" class=\"row_heading level0 row5\" >5</th>\n",
       "      <td id=\"T_14938_row5_col0\" class=\"data row5 col0\" >Transformed train set shape</td>\n",
       "      <td id=\"T_14938_row5_col1\" class=\"data row5 col1\" >(837, 26)</td>\n",
       "    </tr>\n",
       "    <tr>\n",
       "      <th id=\"T_14938_level0_row6\" class=\"row_heading level0 row6\" >6</th>\n",
       "      <td id=\"T_14938_row6_col0\" class=\"data row6 col0\" >Transformed test set shape</td>\n",
       "      <td id=\"T_14938_row6_col1\" class=\"data row6 col1\" >(360, 26)</td>\n",
       "    </tr>\n",
       "    <tr>\n",
       "      <th id=\"T_14938_level0_row7\" class=\"row_heading level0 row7\" >7</th>\n",
       "      <td id=\"T_14938_row7_col0\" class=\"data row7 col0\" >Numeric features</td>\n",
       "      <td id=\"T_14938_row7_col1\" class=\"data row7 col1\" >10</td>\n",
       "    </tr>\n",
       "    <tr>\n",
       "      <th id=\"T_14938_level0_row8\" class=\"row_heading level0 row8\" >8</th>\n",
       "      <td id=\"T_14938_row8_col0\" class=\"data row8 col0\" >Categorical features</td>\n",
       "      <td id=\"T_14938_row8_col1\" class=\"data row8 col1\" >3</td>\n",
       "    </tr>\n",
       "    <tr>\n",
       "      <th id=\"T_14938_level0_row9\" class=\"row_heading level0 row9\" >9</th>\n",
       "      <td id=\"T_14938_row9_col0\" class=\"data row9 col0\" >Rows with missing values</td>\n",
       "      <td id=\"T_14938_row9_col1\" class=\"data row9 col1\" >42.3%</td>\n",
       "    </tr>\n",
       "    <tr>\n",
       "      <th id=\"T_14938_level0_row10\" class=\"row_heading level0 row10\" >10</th>\n",
       "      <td id=\"T_14938_row10_col0\" class=\"data row10 col0\" >Preprocess</td>\n",
       "      <td id=\"T_14938_row10_col1\" class=\"data row10 col1\" >True</td>\n",
       "    </tr>\n",
       "    <tr>\n",
       "      <th id=\"T_14938_level0_row11\" class=\"row_heading level0 row11\" >11</th>\n",
       "      <td id=\"T_14938_row11_col0\" class=\"data row11 col0\" >Imputation type</td>\n",
       "      <td id=\"T_14938_row11_col1\" class=\"data row11 col1\" >simple</td>\n",
       "    </tr>\n",
       "    <tr>\n",
       "      <th id=\"T_14938_level0_row12\" class=\"row_heading level0 row12\" >12</th>\n",
       "      <td id=\"T_14938_row12_col0\" class=\"data row12 col0\" >Numeric imputation</td>\n",
       "      <td id=\"T_14938_row12_col1\" class=\"data row12 col1\" >mean</td>\n",
       "    </tr>\n",
       "    <tr>\n",
       "      <th id=\"T_14938_level0_row13\" class=\"row_heading level0 row13\" >13</th>\n",
       "      <td id=\"T_14938_row13_col0\" class=\"data row13 col0\" >Categorical imputation</td>\n",
       "      <td id=\"T_14938_row13_col1\" class=\"data row13 col1\" >mode</td>\n",
       "    </tr>\n",
       "    <tr>\n",
       "      <th id=\"T_14938_level0_row14\" class=\"row_heading level0 row14\" >14</th>\n",
       "      <td id=\"T_14938_row14_col0\" class=\"data row14 col0\" >Maximum one-hot encoding</td>\n",
       "      <td id=\"T_14938_row14_col1\" class=\"data row14 col1\" >25</td>\n",
       "    </tr>\n",
       "    <tr>\n",
       "      <th id=\"T_14938_level0_row15\" class=\"row_heading level0 row15\" >15</th>\n",
       "      <td id=\"T_14938_row15_col0\" class=\"data row15 col0\" >Encoding method</td>\n",
       "      <td id=\"T_14938_row15_col1\" class=\"data row15 col1\" >None</td>\n",
       "    </tr>\n",
       "    <tr>\n",
       "      <th id=\"T_14938_level0_row16\" class=\"row_heading level0 row16\" >16</th>\n",
       "      <td id=\"T_14938_row16_col0\" class=\"data row16 col0\" >Fold Generator</td>\n",
       "      <td id=\"T_14938_row16_col1\" class=\"data row16 col1\" >KFold</td>\n",
       "    </tr>\n",
       "    <tr>\n",
       "      <th id=\"T_14938_level0_row17\" class=\"row_heading level0 row17\" >17</th>\n",
       "      <td id=\"T_14938_row17_col0\" class=\"data row17 col0\" >Fold Number</td>\n",
       "      <td id=\"T_14938_row17_col1\" class=\"data row17 col1\" >10</td>\n",
       "    </tr>\n",
       "    <tr>\n",
       "      <th id=\"T_14938_level0_row18\" class=\"row_heading level0 row18\" >18</th>\n",
       "      <td id=\"T_14938_row18_col0\" class=\"data row18 col0\" >CPU Jobs</td>\n",
       "      <td id=\"T_14938_row18_col1\" class=\"data row18 col1\" >-1</td>\n",
       "    </tr>\n",
       "    <tr>\n",
       "      <th id=\"T_14938_level0_row19\" class=\"row_heading level0 row19\" >19</th>\n",
       "      <td id=\"T_14938_row19_col0\" class=\"data row19 col0\" >Use GPU</td>\n",
       "      <td id=\"T_14938_row19_col1\" class=\"data row19 col1\" >False</td>\n",
       "    </tr>\n",
       "    <tr>\n",
       "      <th id=\"T_14938_level0_row20\" class=\"row_heading level0 row20\" >20</th>\n",
       "      <td id=\"T_14938_row20_col0\" class=\"data row20 col0\" >Log Experiment</td>\n",
       "      <td id=\"T_14938_row20_col1\" class=\"data row20 col1\" >False</td>\n",
       "    </tr>\n",
       "    <tr>\n",
       "      <th id=\"T_14938_level0_row21\" class=\"row_heading level0 row21\" >21</th>\n",
       "      <td id=\"T_14938_row21_col0\" class=\"data row21 col0\" >Experiment Name</td>\n",
       "      <td id=\"T_14938_row21_col1\" class=\"data row21 col1\" >reg-default-name</td>\n",
       "    </tr>\n",
       "    <tr>\n",
       "      <th id=\"T_14938_level0_row22\" class=\"row_heading level0 row22\" >22</th>\n",
       "      <td id=\"T_14938_row22_col0\" class=\"data row22 col0\" >USI</td>\n",
       "      <td id=\"T_14938_row22_col1\" class=\"data row22 col1\" >04f1</td>\n",
       "    </tr>\n",
       "  </tbody>\n",
       "</table>\n"
      ],
      "text/plain": [
       "<pandas.io.formats.style.Styler at 0x1e5f725ead0>"
      ]
     },
     "metadata": {},
     "output_type": "display_data"
    }
   ],
   "source": [
    "experiment = setup(data=df, target= target, categorical_features=cat_features,\n",
    "                    session_id=40)"
   ]
  },
  {
   "cell_type": "code",
   "execution_count": 17,
   "id": "ad2e5fd5",
   "metadata": {},
   "outputs": [
    {
     "data": {
      "text/html": [],
      "text/plain": [
       "<IPython.core.display.HTML object>"
      ]
     },
     "metadata": {},
     "output_type": "display_data"
    },
    {
     "data": {
      "text/html": [
       "<style type=\"text/css\">\n",
       "#T_698d5 th {\n",
       "  text-align: left;\n",
       "}\n",
       "#T_698d5_row0_col0, #T_698d5_row1_col0, #T_698d5_row1_col1, #T_698d5_row1_col2, #T_698d5_row1_col3, #T_698d5_row1_col4, #T_698d5_row1_col5, #T_698d5_row1_col6 {\n",
       "  text-align: left;\n",
       "}\n",
       "#T_698d5_row0_col1, #T_698d5_row0_col2, #T_698d5_row0_col3, #T_698d5_row0_col4, #T_698d5_row0_col5, #T_698d5_row0_col6 {\n",
       "  text-align: left;\n",
       "  background-color: yellow;\n",
       "}\n",
       "#T_698d5_row0_col7 {\n",
       "  text-align: left;\n",
       "  background-color: lightgrey;\n",
       "}\n",
       "#T_698d5_row1_col7 {\n",
       "  text-align: left;\n",
       "  background-color: yellow;\n",
       "  background-color: lightgrey;\n",
       "}\n",
       "</style>\n",
       "<table id=\"T_698d5\">\n",
       "  <thead>\n",
       "    <tr>\n",
       "      <th class=\"blank level0\" >&nbsp;</th>\n",
       "      <th id=\"T_698d5_level0_col0\" class=\"col_heading level0 col0\" >Model</th>\n",
       "      <th id=\"T_698d5_level0_col1\" class=\"col_heading level0 col1\" >MAE</th>\n",
       "      <th id=\"T_698d5_level0_col2\" class=\"col_heading level0 col2\" >MSE</th>\n",
       "      <th id=\"T_698d5_level0_col3\" class=\"col_heading level0 col3\" >RMSE</th>\n",
       "      <th id=\"T_698d5_level0_col4\" class=\"col_heading level0 col4\" >R2</th>\n",
       "      <th id=\"T_698d5_level0_col5\" class=\"col_heading level0 col5\" >RMSLE</th>\n",
       "      <th id=\"T_698d5_level0_col6\" class=\"col_heading level0 col6\" >MAPE</th>\n",
       "      <th id=\"T_698d5_level0_col7\" class=\"col_heading level0 col7\" >TT (Sec)</th>\n",
       "    </tr>\n",
       "  </thead>\n",
       "  <tbody>\n",
       "    <tr>\n",
       "      <th id=\"T_698d5_level0_row0\" class=\"row_heading level0 row0\" >lightgbm</th>\n",
       "      <td id=\"T_698d5_row0_col0\" class=\"data row0 col0\" >Light Gradient Boosting Machine</td>\n",
       "      <td id=\"T_698d5_row0_col1\" class=\"data row0 col1\" >0.0879</td>\n",
       "      <td id=\"T_698d5_row0_col2\" class=\"data row0 col2\" >0.0190</td>\n",
       "      <td id=\"T_698d5_row0_col3\" class=\"data row0 col3\" >0.1363</td>\n",
       "      <td id=\"T_698d5_row0_col4\" class=\"data row0 col4\" >0.3727</td>\n",
       "      <td id=\"T_698d5_row0_col5\" class=\"data row0 col5\" >0.0841</td>\n",
       "      <td id=\"T_698d5_row0_col6\" class=\"data row0 col6\" >0.1604</td>\n",
       "      <td id=\"T_698d5_row0_col7\" class=\"data row0 col7\" >0.0610</td>\n",
       "    </tr>\n",
       "    <tr>\n",
       "      <th id=\"T_698d5_level0_row1\" class=\"row_heading level0 row1\" >dummy</th>\n",
       "      <td id=\"T_698d5_row1_col0\" class=\"data row1 col0\" >Dummy Regressor</td>\n",
       "      <td id=\"T_698d5_row1_col1\" class=\"data row1 col1\" >0.1387</td>\n",
       "      <td id=\"T_698d5_row1_col2\" class=\"data row1 col2\" >0.0314</td>\n",
       "      <td id=\"T_698d5_row1_col3\" class=\"data row1 col3\" >0.1765</td>\n",
       "      <td id=\"T_698d5_row1_col4\" class=\"data row1 col4\" >-0.0154</td>\n",
       "      <td id=\"T_698d5_row1_col5\" class=\"data row1 col5\" >0.1076</td>\n",
       "      <td id=\"T_698d5_row1_col6\" class=\"data row1 col6\" >0.2470</td>\n",
       "      <td id=\"T_698d5_row1_col7\" class=\"data row1 col7\" >0.0380</td>\n",
       "    </tr>\n",
       "  </tbody>\n",
       "</table>\n"
      ],
      "text/plain": [
       "<pandas.io.formats.style.Styler at 0x1e5ee680b10>"
      ]
     },
     "metadata": {},
     "output_type": "display_data"
    },
    {
     "data": {
      "text/html": [],
      "text/plain": [
       "<IPython.core.display.HTML object>"
      ]
     },
     "metadata": {},
     "output_type": "display_data"
    }
   ],
   "source": [
    "# get the best model\n",
    "best_model = compare_models()"
   ]
  },
  {
   "cell_type": "code",
   "execution_count": 18,
   "id": "f819346e",
   "metadata": {},
   "outputs": [
    {
     "data": {
      "application/vnd.jupyter.widget-view+json": {
       "model_id": "292e27e70f1c4aaca3cd613c45c89a31",
       "version_major": 2,
       "version_minor": 0
      },
      "text/plain": [
       "interactive(children=(ToggleButtons(description='Plot Type:', icons=('',), options=(('Pipeline Plot', 'pipelin…"
      ]
     },
     "metadata": {},
     "output_type": "display_data"
    }
   ],
   "source": [
    "evaluate_model(best_model)"
   ]
  },
  {
   "cell_type": "code",
   "execution_count": 19,
   "id": "291a9aff",
   "metadata": {},
   "outputs": [
    {
     "data": {
      "text/html": [],
      "text/plain": [
       "<IPython.core.display.HTML object>"
      ]
     },
     "metadata": {},
     "output_type": "display_data"
    },
    {
     "data": {
      "image/png": "[encoded data removed]",
      "text/plain": [
       "<Figure size 800x500 with 1 Axes>"
      ]
     },
     "metadata": {},
     "output_type": "display_data"
    }
   ],
   "source": [
    "# plot feature importance\n",
    "plot_model(best_model, plot = 'feature')"
   ]
  },
  {
   "cell_type": "code",
   "execution_count": 20,
   "id": "3afc9b5d",
   "metadata": {},
   "outputs": [
    {
     "name": "stdout",
     "output_type": "stream",
     "text": [
      "Transformation Pipeline and Model Successfully Saved\n"
     ]
    },
    {
     "data": {
      "text/plain": [
       "(Pipeline(memory=Memory(location=None),\n",
       "          steps=[('numerical_imputer',\n",
       "                  TransformerWrapper(include=['team', 'targeted_productivity',\n",
       "                                              'smv', 'wip', 'over_time',\n",
       "                                              'incentive', 'idle_time',\n",
       "                                              'idle_men', 'no_of_style_change',\n",
       "                                              'no_of_workers'],\n",
       "                                     transformer=SimpleImputer())),\n",
       "                 ('categorical_imputer',\n",
       "                  TransformerWrapper(include=['quarter', 'department', 'day'],\n",
       "                                     transformer=SimpleImputer(strategy='most_frequent'))),\n",
       "                 ('onehot_encoding',\n",
       "                  TransformerWrapper(include=['quarter', 'department', 'day'],\n",
       "                                     transformer=OneHotEncoder(cols=['quarter',\n",
       "                                                                     'department',\n",
       "                                                                     'day'],\n",
       "                                                               handle_missing='return_nan',\n",
       "                                                               use_cat_names=True))),\n",
       "                 ('trained_model', LGBMRegressor(random_state=40))]),\n",
       " 'my_employee_productivity_model.pkl')"
      ]
     },
     "execution_count": 20,
     "metadata": {},
     "output_type": "execute_result"
    }
   ],
   "source": [
    "# save model\n",
    "save_model(best_model, 'my_employee_productivity_model')"
   ]
  }
 ],
 "metadata": {
  "kernelspec": {
   "display_name": "Python 3 (ipykernel)",
   "language": "python",
   "name": "python3"
  },
  "language_info": {
   "codemirror_mode": {
    "name": "ipython",
    "version": 3
   },
   "file_extension": ".py",
   "mimetype": "text/x-python",
   "name": "python",
   "nbconvert_exporter": "python",
   "pygments_lexer": "ipython3",
   "version": "3.11.5"
  }
 },
 "nbformat": 4,
 "nbformat_minor": 5
}
